{
 "cells": [
  {
   "cell_type": "code",
   "execution_count": null,
   "id": "cfbdf67d-4c03-421e-b983-b00c8a7805eb",
   "metadata": {},
   "outputs": [],
   "source": [
    "import pandas as pd\n",
    "import numpy as np\n",
    "import matplotlib.pyplot as plt\n",
    "\n",
    "dse_filename = 'dse.csv'\n",
    "df = pd.read_csv(dse_filename)"
   ]
  },
  {
   "cell_type": "code",
   "execution_count": null,
   "id": "d2679743-cf87-4c4a-88c2-ffb6b6ffb63d",
   "metadata": {},
   "outputs": [],
   "source": [
    "display(df)"
   ]
  },
  {
   "cell_type": "code",
   "execution_count": null,
   "id": "4730343b-5e35-4d00-8bab-7c127b051f29",
   "metadata": {},
   "outputs": [],
   "source": [
    "entry_columns = list(df.columns)\n",
    "print(entry_columns)"
   ]
  },
  {
   "cell_type": "code",
   "execution_count": null,
   "id": "c08a7073-1ef0-4748-a171-a4910f1666c5",
   "metadata": {},
   "outputs": [],
   "source": [
    "print(list(df['Layer'].unique()))\n",
    "print(list(df['IOType'].unique()))\n",
    "print(list(df['Strategy'].unique()))\n",
    "print(list(df['Precision'].unique()))"
   ]
  },
  {
   "cell_type": "code",
   "execution_count": null,
   "id": "261e4321-934c-4d44-abdb-229074e8c8fd",
   "metadata": {},
   "outputs": [],
   "source": [
    "layer_count = df.groupby('Layer').size()\n",
    "display(layer_count)"
   ]
  },
  {
   "cell_type": "code",
   "execution_count": null,
   "id": "f581ef4d-4900-4684-9e57-584b3560c7c7",
   "metadata": {},
   "outputs": [],
   "source": [
    "display(df.groupby(['Layer', 'Inputs', 'Outputs']).size())"
   ]
  },
  {
   "cell_type": "code",
   "execution_count": null,
   "id": "ff1166ca-610f-4d80-b983-0500d2d47ee4",
   "metadata": {},
   "outputs": [],
   "source": [
    "selected_rows = df[(df['Inputs'] == 64) & (df['Outputs'] == 64)]\n",
    "\n",
    "fig, ax1 = plt.subplots(figsize=(12, 6))\n",
    "\n",
    "color_area = 'tab:blue'\n",
    "ax1.set_xlabel('Reuse Factor')\n",
    "ax1.set_ylabel('Area', color=color_area)\n",
    "line1 = ax1.plot(selected_rows['ReuseFactor'], selected_rows['Area'], color=color_area, label='Area')\n",
    "ax1.tick_params(axis='y', labelcolor=color_area)\n",
    "\n",
    "ax2 = ax1.twinx()  # instantiate a second axes that shares the same x-axis\n",
    "color_latency = 'tab:red'\n",
    "ax2.set_ylabel('Latency', color=color_latency)\n",
    "line2 = ax2.plot(selected_rows['ReuseFactor'], selected_rows['Latency'], color=color_latency, linestyle='--', label='Latency')\n",
    "ax2.tick_params(axis='y', labelcolor=color_latency)\n",
    "\n",
    "# added a legend\n",
    "lines = line1 + line2\n",
    "labels = [l.get_label() for l in lines]\n",
    "plt.legend(lines, labels, loc=0)\n",
    "\n",
    "plt.title('Area and Latency vs. Reuse Factor')\n",
    "plt.show()"
   ]
  },
  {
   "cell_type": "code",
   "execution_count": null,
   "id": "985f273e-532a-4e95-8a73-4ab522ec9baf",
   "metadata": {},
   "outputs": [],
   "source": [
    "selected_rows = df[(df['Inputs'] == 64) & (df['Outputs'] == 64)]\n",
    "\n",
    "# Plotting with Latency on the X-axis and Area on the Y-axis\n",
    "plt.figure(figsize=(12, 6))\n",
    "\n",
    "plt.plot(selected_rows['Latency'], selected_rows['Area'], marker='o', linestyle='-', color='tab:green')\n",
    "plt.xlabel('Latency')\n",
    "plt.ylabel('Area')\n",
    "plt.title('Area vs. Latency')\n",
    "\n",
    "plt.grid(True)\n",
    "plt.show()"
   ]
  },
  {
   "cell_type": "code",
   "execution_count": null,
   "id": "bacbf788-1f06-4b56-834f-61ff0ff9f1f4",
   "metadata": {},
   "outputs": [],
   "source": [
    "# Calculate the correlation coefficient between Area and Reuse Factor\n",
    "selected_rows = df[(df['Inputs'] == 64) & (df['Outputs'] == 64)]\n",
    "correlation_coefficient = selected_rows['Area'].corr(selected_rows['ReuseFactor'])\n",
    "print(correlation_coefficient)"
   ]
  },
  {
   "cell_type": "code",
   "execution_count": null,
   "id": "f17d8465-df9a-4e80-b06b-64033480eff7",
   "metadata": {},
   "outputs": [],
   "source": [
    "selected_rows = df[(df['Inputs'] == 64) & (df['Outputs'] == 64)]\n",
    "# Calculate linear regression line\n",
    "slope, intercept = np.polyfit(selected_rows['ReuseFactor'], selected_rows['Area'], 1)\n",
    "line = slope * selected_rows['ReuseFactor'] + intercept\n",
    "\n",
    "# Plotting Area vs. Reuse Factor with linear regression line\n",
    "plt.figure(figsize=(12, 6))\n",
    "plt.scatter(selected_rows['ReuseFactor'], selected_rows['Area'], color='tab:blue', label='Actual Data')\n",
    "plt.plot(selected_rows['ReuseFactor'], line, color='tab:red', label='Linear Regression Line')\n",
    "\n",
    "plt.xlabel('Reuse Factor')\n",
    "plt.ylabel('Area')\n",
    "plt.title('Area vs. Reuse Factor with Linear Regression')\n",
    "plt.legend()\n",
    "\n",
    "plt.grid(True)\n",
    "plt.show()"
   ]
  },
  {
   "cell_type": "code",
   "execution_count": null,
   "id": "e9c64853-a824-4785-940e-c201c545c8e2",
   "metadata": {},
   "outputs": [],
   "source": [
    "selected_rows = df[(df['Inputs'] == 64) & (df['Outputs'] == 64)]\n",
    "# Calculate linear regression line for Latency vs. Reuse Factor\n",
    "slope_latency, intercept_latency = np.polyfit(selected_rows['ReuseFactor'], selected_rows['Latency'], 1)\n",
    "line_latency = slope_latency * selected_rows['ReuseFactor'] + intercept_latency\n",
    "\n",
    "# Plotting Latency vs. Reuse Factor with linear regression line\n",
    "plt.figure(figsize=(12, 6))\n",
    "plt.scatter(selected_rows['ReuseFactor'], selected_rows['Latency'], color='tab:blue', label='Actual Data')\n",
    "plt.plot(selected_rows['ReuseFactor'], line_latency, color='tab:red', label='Linear Regression Line')\n",
    "\n",
    "plt.xlabel('Reuse Factor')\n",
    "plt.ylabel('Latency')\n",
    "plt.title('Latency vs. Reuse Factor with Linear Regression')\n",
    "plt.legend()\n",
    "\n",
    "plt.grid(True)\n",
    "plt.show()"
   ]
  },
  {
   "cell_type": "code",
   "execution_count": null,
   "id": "1e792e8b-211e-4bb9-9168-a227361cc55c",
   "metadata": {},
   "outputs": [],
   "source": [
    "selected_rows = df[(df['Inputs'] == 32) & (df['Outputs'] == 32)]\n",
    "\n",
    "fig, ax1 = plt.subplots(figsize=(12, 6))\n",
    "\n",
    "color_area = 'tab:blue'\n",
    "ax1.set_xlabel('Reuse Factor')\n",
    "ax1.set_ylabel('Area', color=color_area)\n",
    "line1 = ax1.plot(selected_rows['ReuseFactor'], selected_rows['Area'], color=color_area, label='Area')\n",
    "ax1.tick_params(axis='y', labelcolor=color_area)\n",
    "\n",
    "ax2 = ax1.twinx()  # instantiate a second axes that shares the same x-axis\n",
    "color_latency = 'tab:red'\n",
    "ax2.set_ylabel('Latency', color=color_latency)\n",
    "line2 = ax2.plot(selected_rows['ReuseFactor'], selected_rows['Latency'], color=color_latency, linestyle='--', label='Latency')\n",
    "ax2.tick_params(axis='y', labelcolor=color_latency)\n",
    "\n",
    "# added a legend\n",
    "lines = line1 + line2\n",
    "labels = [l.get_label() for l in lines]\n",
    "plt.legend(lines, labels, loc=0)\n",
    "\n",
    "plt.title('Area and Latency vs. Reuse Factor')\n",
    "plt.show()"
   ]
  },
  {
   "cell_type": "code",
   "execution_count": null,
   "id": "307e4ac0-4841-4675-b84c-fabea271dc47",
   "metadata": {},
   "outputs": [],
   "source": [
    "selected_rows = df[(df['Inputs'] == 32) & (df['Outputs'] == 32)]\n",
    "\n",
    "# Plotting with Latency on the X-axis and Area on the Y-axis\n",
    "plt.figure(figsize=(12, 6))\n",
    "\n",
    "plt.plot(selected_rows['Latency'], selected_rows['Area'], marker='o', linestyle='-', color='tab:green')\n",
    "plt.xlabel('Latency')\n",
    "plt.ylabel('Area')\n",
    "plt.title('Area vs. Latency')\n",
    "\n",
    "plt.grid(True)\n",
    "plt.show()"
   ]
  },
  {
   "cell_type": "code",
   "execution_count": null,
   "id": "de3c5191-b28a-4c80-93ca-a7846ca52ff9",
   "metadata": {},
   "outputs": [],
   "source": [
    "# Calculate the correlation coefficient between Area and Reuse Factor\n",
    "selected_rows = df[(df['Inputs'] == 32) & (df['Outputs'] == 32)]\n",
    "correlation_coefficient = selected_rows['Area'].corr(selected_rows['ReuseFactor'])\n",
    "print(correlation_coefficient)"
   ]
  },
  {
   "cell_type": "code",
   "execution_count": null,
   "id": "9c8c21df-471b-4fe5-8ef4-b48982c3052a",
   "metadata": {},
   "outputs": [],
   "source": [
    "selected_rows = df[(df['Inputs'] == 32) & (df['Outputs'] == 32)]\n",
    "# Calculate linear regression line\n",
    "slope, intercept = np.polyfit(selected_rows['ReuseFactor'], selected_rows['Area'], 1)\n",
    "line = slope * selected_rows['ReuseFactor'] + intercept\n",
    "\n",
    "# Plotting Area vs. Reuse Factor with linear regression line\n",
    "plt.figure(figsize=(12, 6))\n",
    "plt.scatter(selected_rows['ReuseFactor'], selected_rows['Area'], color='tab:blue', label='Actual Data')\n",
    "plt.plot(selected_rows['ReuseFactor'], line, color='tab:red', label='Linear Regression Line')\n",
    "\n",
    "plt.xlabel('Reuse Factor')\n",
    "plt.ylabel('Area')\n",
    "plt.title('Area vs. Reuse Factor with Linear Regression')\n",
    "plt.legend()\n",
    "\n",
    "plt.grid(True)\n",
    "plt.show()"
   ]
  },
  {
   "cell_type": "code",
   "execution_count": null,
   "id": "f7eb7c93-d560-4d1a-85fc-82d14bf92490",
   "metadata": {},
   "outputs": [],
   "source": [
    "selected_rows = df[(df['Inputs'] == 32) & (df['Outputs'] == 32)]\n",
    "# Calculate linear regression line for Latency vs. Reuse Factor\n",
    "slope_latency, intercept_latency = np.polyfit(selected_rows['ReuseFactor'], selected_rows['Latency'], 1)\n",
    "line_latency = slope_latency * selected_rows['ReuseFactor'] + intercept_latency\n",
    "\n",
    "# Plotting Latency vs. Reuse Factor with linear regression line\n",
    "plt.figure(figsize=(12, 6))\n",
    "plt.scatter(selected_rows['ReuseFactor'], selected_rows['Latency'], color='tab:blue', label='Actual Data')\n",
    "plt.plot(selected_rows['ReuseFactor'], line_latency, color='tab:red', label='Linear Regression Line')\n",
    "\n",
    "plt.xlabel('Reuse Factor')\n",
    "plt.ylabel('Latency')\n",
    "plt.title('Latency vs. Reuse Factor with Linear Regression')\n",
    "plt.legend()\n",
    "\n",
    "plt.grid(True)\n",
    "plt.show()"
   ]
  },
  {
   "cell_type": "code",
   "execution_count": null,
   "id": "5575ae9b-f4b8-41c2-9113-b2cb4ee5fab4",
   "metadata": {},
   "outputs": [],
   "source": [
    "selected_rows = df[(df['Inputs'] == 16) & (df['Outputs'] == 16)]\n",
    "\n",
    "fig, ax1 = plt.subplots(figsize=(12, 6))\n",
    "\n",
    "color_area = 'tab:blue'\n",
    "ax1.set_xlabel('Reuse Factor')\n",
    "ax1.set_ylabel('Area', color=color_area)\n",
    "line1 = ax1.plot(selected_rows['ReuseFactor'], selected_rows['Area'], color=color_area, label='Area')\n",
    "ax1.tick_params(axis='y', labelcolor=color_area)\n",
    "\n",
    "ax2 = ax1.twinx()  # instantiate a second axes that shares the same x-axis\n",
    "color_latency = 'tab:red'\n",
    "ax2.set_ylabel('Latency', color=color_latency)\n",
    "line2 = ax2.plot(selected_rows['ReuseFactor'], selected_rows['Latency'], color=color_latency, linestyle='--', label='Latency')\n",
    "ax2.tick_params(axis='y', labelcolor=color_latency)\n",
    "\n",
    "# added a legend\n",
    "lines = line1 + line2\n",
    "labels = [l.get_label() for l in lines]\n",
    "plt.legend(lines, labels, loc=0)\n",
    "\n",
    "plt.title('Area and Latency vs. Reuse Factor')\n",
    "plt.show()"
   ]
  },
  {
   "cell_type": "code",
   "execution_count": null,
   "id": "41381d8e-fd1e-48b7-8704-2fb266589769",
   "metadata": {},
   "outputs": [],
   "source": [
    "selected_rows = df[(df['Inputs'] == 16) & (df['Outputs'] == 16)]\n",
    "\n",
    "# Plotting with Latency on the X-axis and Area on the Y-axis\n",
    "plt.figure(figsize=(12, 6))\n",
    "\n",
    "plt.plot(selected_rows['Latency'], selected_rows['Area'], marker='o', linestyle='-', color='tab:green')\n",
    "plt.xlabel('Latency')\n",
    "plt.ylabel('Area')\n",
    "plt.title('Area vs. Latency')\n",
    "\n",
    "plt.grid(True)\n",
    "plt.show()"
   ]
  },
  {
   "cell_type": "code",
   "execution_count": null,
   "id": "badc38c7-9a44-4cd9-9540-fba3a0e7f99e",
   "metadata": {},
   "outputs": [],
   "source": [
    "# Calculate the correlation coefficient between Area and Reuse Factor\n",
    "selected_rows = df[(df['Inputs'] == 16) & (df['Outputs'] == 16)]\n",
    "correlation_coefficient = selected_rows['Area'].corr(selected_rows['ReuseFactor'])\n",
    "print(correlation_coefficient)"
   ]
  },
  {
   "cell_type": "code",
   "execution_count": null,
   "id": "753b26e3-d44c-4a04-9e7c-4feac79022e2",
   "metadata": {},
   "outputs": [],
   "source": [
    "selected_rows = df[(df['Inputs'] == 16) & (df['Outputs'] == 16)]\n",
    "# Calculate linear regression line\n",
    "slope, intercept = np.polyfit(selected_rows['ReuseFactor'], selected_rows['Area'], 1)\n",
    "line = slope * selected_rows['ReuseFactor'] + intercept\n",
    "\n",
    "# Plotting Area vs. Reuse Factor with linear regression line\n",
    "plt.figure(figsize=(12, 6))\n",
    "plt.scatter(selected_rows['ReuseFactor'], selected_rows['Area'], color='tab:blue', label='Actual Data')\n",
    "plt.plot(selected_rows['ReuseFactor'], line, color='tab:red', label='Linear Regression Line')\n",
    "\n",
    "plt.xlabel('Reuse Factor')\n",
    "plt.ylabel('Area')\n",
    "plt.title('Area vs. Reuse Factor with Linear Regression')\n",
    "plt.legend()\n",
    "\n",
    "plt.grid(True)\n",
    "plt.show()"
   ]
  },
  {
   "cell_type": "code",
   "execution_count": null,
   "id": "5e49a3a6-70a1-44e3-9c6e-6765113fff72",
   "metadata": {},
   "outputs": [],
   "source": [
    "selected_rows = df[(df['Inputs'] == 16) & (df['Outputs'] == 16)]\n",
    "# Calculate linear regression line for Latency vs. Reuse Factor\n",
    "slope_latency, intercept_latency = np.polyfit(selected_rows['ReuseFactor'], selected_rows['Latency'], 1)\n",
    "line_latency = slope_latency * selected_rows['ReuseFactor'] + intercept_latency\n",
    "\n",
    "# Plotting Latency vs. Reuse Factor with linear regression line\n",
    "plt.figure(figsize=(12, 6))\n",
    "plt.scatter(selected_rows['ReuseFactor'], selected_rows['Latency'], color='tab:blue', label='Actual Data')\n",
    "plt.plot(selected_rows['ReuseFactor'], line_latency, color='tab:red', label='Linear Regression Line')\n",
    "\n",
    "plt.xlabel('Reuse Factor')\n",
    "plt.ylabel('Latency')\n",
    "plt.title('Latency vs. Reuse Factor with Linear Regression')\n",
    "plt.legend()\n",
    "\n",
    "plt.grid(True)\n",
    "plt.show()"
   ]
  },
  {
   "cell_type": "code",
   "execution_count": null,
   "id": "44e829ee-003c-4aea-88f8-d84f6a4c14c2",
   "metadata": {},
   "outputs": [],
   "source": [
    "selected_rows = df[(df['Inputs'] == 4) & (df['Outputs'] == 4)]\n",
    "\n",
    "fig, ax1 = plt.subplots(figsize=(12, 6))\n",
    "\n",
    "color_area = 'tab:blue'\n",
    "ax1.set_xlabel('Reuse Factor')\n",
    "ax1.set_ylabel('Area', color=color_area)\n",
    "line1 = ax1.plot(selected_rows['ReuseFactor'], selected_rows['Area'], color=color_area, label='Area')\n",
    "ax1.tick_params(axis='y', labelcolor=color_area)\n",
    "\n",
    "ax2 = ax1.twinx()  # instantiate a second axes that shares the same x-axis\n",
    "color_latency = 'tab:red'\n",
    "ax2.set_ylabel('Latency', color=color_latency)\n",
    "line2 = ax2.plot(selected_rows['ReuseFactor'], selected_rows['Latency'], color=color_latency, linestyle='--', label='Latency')\n",
    "ax2.tick_params(axis='y', labelcolor=color_latency)\n",
    "\n",
    "# added a legend\n",
    "lines = line1 + line2\n",
    "labels = [l.get_label() for l in lines]\n",
    "plt.legend(lines, labels, loc=0)\n",
    "\n",
    "plt.title('Area and Latency vs. Reuse Factor')\n",
    "plt.show()"
   ]
  },
  {
   "cell_type": "code",
   "execution_count": null,
   "id": "cd400de4-ea7f-4a6c-b853-746426c24a6e",
   "metadata": {},
   "outputs": [],
   "source": [
    "selected_rows = df[(df['Inputs'] == 4) & (df['Outputs'] == 4)]\n",
    "\n",
    "# Plotting with Latency on the X-axis and Area on the Y-axis\n",
    "plt.figure(figsize=(12, 6))\n",
    "\n",
    "plt.plot(selected_rows['Latency'], selected_rows['Area'], marker='o', linestyle='-', color='tab:green')\n",
    "plt.xlabel('Latency')\n",
    "plt.ylabel('Area')\n",
    "plt.title('Area vs. Latency')\n",
    "\n",
    "plt.grid(True)\n",
    "plt.show()"
   ]
  },
  {
   "cell_type": "code",
   "execution_count": null,
   "id": "22d6f24f-8bfc-4610-93f9-dc0a1cc883d1",
   "metadata": {},
   "outputs": [],
   "source": [
    "# Calculate the correlation coefficient between Area and Reuse Factor\n",
    "selected_rows = df[(df['Inputs'] == 4) & (df['Outputs'] == 4)]\n",
    "correlation_coefficient = selected_rows['Area'].corr(selected_rows['ReuseFactor'])\n",
    "print(correlation_coefficient)"
   ]
  },
  {
   "cell_type": "code",
   "execution_count": null,
   "id": "cefbb771-f224-4e25-a84c-f69d4c385f94",
   "metadata": {},
   "outputs": [],
   "source": [
    "selected_rows = df[(df['Inputs'] == 4) & (df['Outputs'] == 4)]\n",
    "# Calculate linear regression line\n",
    "slope, intercept = np.polyfit(selected_rows['ReuseFactor'], selected_rows['Area'], 1)\n",
    "line = slope * selected_rows['ReuseFactor'] + intercept\n",
    "\n",
    "# Plotting Area vs. Reuse Factor with linear regression line\n",
    "plt.figure(figsize=(12, 6))\n",
    "plt.scatter(selected_rows['ReuseFactor'], selected_rows['Area'], color='tab:blue', label='Actual Data')\n",
    "plt.plot(selected_rows['ReuseFactor'], line, color='tab:red', label='Linear Regression Line')\n",
    "\n",
    "plt.xlabel('Reuse Factor')\n",
    "plt.ylabel('Area')\n",
    "plt.title('Area vs. Reuse Factor with Linear Regression')\n",
    "plt.legend()\n",
    "\n",
    "plt.grid(True)\n",
    "plt.show()"
   ]
  },
  {
   "cell_type": "code",
   "execution_count": null,
   "id": "f1c15715-bcbc-41b1-a155-53816a3743a7",
   "metadata": {},
   "outputs": [],
   "source": [
    "selected_rows = df[(df['Inputs'] == 4) & (df['Outputs'] == 4)]\n",
    "# Calculate linear regression line for Latency vs. Reuse Factor\n",
    "slope_latency, intercept_latency = np.polyfit(selected_rows['ReuseFactor'], selected_rows['Latency'], 1)\n",
    "line_latency = slope_latency * selected_rows['ReuseFactor'] + intercept_latency\n",
    "\n",
    "# Plotting Latency vs. Reuse Factor with linear regression line\n",
    "plt.figure(figsize=(12, 6))\n",
    "plt.scatter(selected_rows['ReuseFactor'], selected_rows['Latency'], color='tab:blue', label='Actual Data')\n",
    "plt.plot(selected_rows['ReuseFactor'], line_latency, color='tab:red', label='Linear Regression Line')\n",
    "\n",
    "plt.xlabel('Reuse Factor')\n",
    "plt.ylabel('Latency')\n",
    "plt.title('Latency vs. Reuse Factor with Linear Regression')\n",
    "plt.legend()\n",
    "\n",
    "plt.grid(True)\n",
    "plt.show()"
   ]
  },
  {
   "cell_type": "code",
   "execution_count": null,
   "id": "34f0701e-265d-491c-a25c-779cafbb3e34",
   "metadata": {},
   "outputs": [],
   "source": []
  }
 ],
 "metadata": {
  "kernelspec": {
   "display_name": "Python 3 (ipykernel)",
   "language": "python",
   "name": "python3"
  },
  "language_info": {
   "codemirror_mode": {
    "name": "ipython",
    "version": 3
   },
   "file_extension": ".py",
   "mimetype": "text/x-python",
   "name": "python",
   "nbconvert_exporter": "python",
   "pygments_lexer": "ipython3",
   "version": "3.10.13"
  }
 },
 "nbformat": 4,
 "nbformat_minor": 5
}
