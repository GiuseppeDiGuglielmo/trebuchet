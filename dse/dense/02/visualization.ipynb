{
 "cells": [
  {
   "cell_type": "markdown",
   "id": "caa54766-fd7f-4948-afaf-ed525c2f4b42",
   "metadata": {},
   "source": [
    "# DSE Visualization"
   ]
  },
  {
   "cell_type": "markdown",
   "id": "a3302318-978d-4ae4-b882-c85c6ab338e9",
   "metadata": {},
   "source": [
    "## Libraries and functions"
   ]
  },
  {
   "cell_type": "code",
   "execution_count": null,
   "id": "cfbdf67d-4c03-421e-b983-b00c8a7805eb",
   "metadata": {},
   "outputs": [],
   "source": [
    "import pandas as pd"
   ]
  },
  {
   "cell_type": "code",
   "execution_count": null,
   "id": "3e9f2979-7765-4bdf-aa07-e436edbe75ee",
   "metadata": {},
   "outputs": [],
   "source": [
    "from visualization_utils import display_interactive_table\n",
    "from visualization_utils import plot_area_latency_vs_reusefactor\n",
    "from visualization_utils import plot_interactive_area_latency_vs_reusefactor\n",
    "from visualization_utils import plot_multiple_area_latency_vs_reusefactor\n",
    "from visualization_utils import plot_area_vs_latency\n",
    "from visualization_utils import plot_interactive_area_vs_latency\n",
    "from visualization_utils import plot_multiple_area_vs_latency"
   ]
  },
  {
   "cell_type": "markdown",
   "id": "81d4e748-077c-4a99-8ead-19d11daddd50",
   "metadata": {},
   "source": [
    "## Load data"
   ]
  },
  {
   "cell_type": "code",
   "execution_count": null,
   "id": "6124a82f-ef0c-40a2-adb1-0d23c5a3a834",
   "metadata": {},
   "outputs": [],
   "source": [
    "#!wget https://fastmachinelearning.org/hls4ml/_images/hls4ml_logo.png"
   ]
  },
  {
   "cell_type": "code",
   "execution_count": null,
   "id": "2a44f8c3-c5e1-43e3-ac0c-70ce1f035991",
   "metadata": {},
   "outputs": [],
   "source": [
    "dse_filename = 'dse.csv'\n",
    "df = pd.read_csv(dse_filename)\n",
    "print(f'Rows: {df.shape[0]}')"
   ]
  },
  {
   "cell_type": "markdown",
   "id": "98d6434f-3d8b-4bdc-bc7a-1f3e1a653e01",
   "metadata": {},
   "source": [
    "## Show tables"
   ]
  },
  {
   "cell_type": "code",
   "execution_count": null,
   "id": "4730343b-5e35-4d00-8bab-7c127b051f29",
   "metadata": {},
   "outputs": [],
   "source": [
    "entry_columns = list(df.columns)\n",
    "print(entry_columns)"
   ]
  },
  {
   "cell_type": "code",
   "execution_count": null,
   "id": "be68e25a",
   "metadata": {},
   "outputs": [],
   "source": [
    "display(df)"
   ]
  },
  {
   "cell_type": "markdown",
   "id": "d62abb08",
   "metadata": {},
   "source": [
    "### Interactive"
   ]
  },
  {
   "cell_type": "code",
   "execution_count": null,
   "id": "c6fd36b5-870e-47f7-84d6-8b09b35213e3",
   "metadata": {
    "scrolled": false
   },
   "outputs": [],
   "source": [
    "display_interactive_table(df)"
   ]
  },
  {
   "cell_type": "markdown",
   "id": "c6175839-0ac1-44b5-8378-b1f9170bb1dc",
   "metadata": {},
   "source": [
    "## Area and Latency vs Reuse Factor"
   ]
  },
  {
   "cell_type": "markdown",
   "id": "c86db16b",
   "metadata": {},
   "source": [
    "### Interactive"
   ]
  },
  {
   "cell_type": "code",
   "execution_count": null,
   "id": "d4e0311e",
   "metadata": {},
   "outputs": [],
   "source": [
    "plot_interactive_area_latency_vs_reusefactor(data=df)"
   ]
  },
  {
   "cell_type": "markdown",
   "id": "0ec598e1",
   "metadata": {},
   "source": [
    "### Multiple quadrants"
   ]
  },
  {
   "cell_type": "code",
   "execution_count": null,
   "id": "7073998d",
   "metadata": {
    "scrolled": false
   },
   "outputs": [],
   "source": [
    "quadrant_pairs = [(4, 4), (8, 8), (16, 16), (32, 32)]\n",
    "SHOW_AREA_HLS=False\n",
    "SHOW_AREA_SYN=True\n",
    "SHOW_LATENCY=True\n",
    "SHOW_RF1=True\n",
    "SHOW_VERTICAL=False\n",
    "STRATEGY='Resource'\n",
    "IOTYPE='io_stream'\n",
    "\n",
    "plot_multiple_area_latency_vs_reusefactor(df, quadrant_pairs,\n",
    "                                          strategy=STRATEGY,\n",
    "                                          iotype=IOTYPE,\n",
    "                                          vertical=SHOW_VERTICAL,\n",
    "                                          show_area_hls=SHOW_AREA_HLS,\n",
    "                                          show_area_syn=SHOW_AREA_SYN,\n",
    "                                          show_latency=SHOW_LATENCY,\n",
    "                                          show_rf1=SHOW_RF1)"
   ]
  },
  {
   "cell_type": "markdown",
   "id": "54972d5d-0d70-48d4-b67d-f3aad962e966",
   "metadata": {},
   "source": [
    "## Area vs Latency"
   ]
  },
  {
   "cell_type": "raw",
   "id": "f6287285",
   "metadata": {},
   "source": [
    "plot_area_vs_latency(data=df, inputs=INPUTS, outputs=OUTPUTS, strategy='Latency', iotype=IOTYPE,\n",
    "                     show_area_hls=SHOW_AREA_HLS, show_area_syn=SHOW_AREA_SYN, show_rf1=SHOW_RF1)"
   ]
  },
  {
   "cell_type": "markdown",
   "id": "4f2dbd6b",
   "metadata": {},
   "source": [
    "### Interactive"
   ]
  },
  {
   "cell_type": "code",
   "execution_count": null,
   "id": "c66d8a40-0a80-4609-95c5-1bf5c676e1b0",
   "metadata": {},
   "outputs": [],
   "source": [
    "plot_interactive_area_vs_latency(data=df)"
   ]
  },
  {
   "cell_type": "markdown",
   "id": "f45bfcda",
   "metadata": {},
   "source": [
    "### Multiple quadrants"
   ]
  },
  {
   "cell_type": "code",
   "execution_count": null,
   "id": "b673a8c6",
   "metadata": {
    "scrolled": false
   },
   "outputs": [],
   "source": [
    "quadrant_pairs = [(4, 4), (8, 8), (16, 16), (32, 32)]\n",
    "SHOW_AREA_HLS=False\n",
    "SHOW_AREA_SYN=True\n",
    "SHOW_LATENCY=True\n",
    "SHOW_RF1=True\n",
    "SHOW_VERTICAL=False\n",
    "STRATEGY='Resource'\n",
    "IOTYPE='io_stream'\n",
    "\n",
    "plot_multiple_area_vs_latency(df, quadrant_pairs,\n",
    "                              strategy=STRATEGY,\n",
    "                              iotype=IOTYPE,\n",
    "                              vertical=SHOW_VERTICAL,\n",
    "                              show_area_hls=SHOW_AREA_HLS,\n",
    "                              show_area_syn=SHOW_AREA_SYN,\n",
    "                              show_rf1=SHOW_RF1)"
   ]
  },
  {
   "cell_type": "code",
   "execution_count": null,
   "id": "6d87825a",
   "metadata": {},
   "outputs": [],
   "source": [
    "# Calculate the correlation coefficient between Area and Reuse Factor\n",
    "selected_rows = df[(df['Inputs'] == 4) & (df['Outputs'] == 4)]\n",
    "correlation_coefficient = selected_rows['AreaHLS'].corr(selected_rows['ReuseFactor'])\n",
    "print(correlation_coefficient)"
   ]
  },
  {
   "cell_type": "raw",
   "id": "9de345ea-dff5-4fa8-a433-286bd94ffb57",
   "metadata": {},
   "source": [
    "selected_rows = df[(df['Inputs'] == 4) & (df['Outputs'] == 4)]\n",
    "# Calculate linear regression line\n",
    "slope, intercept = np.polyfit(selected_rows['ReuseFactor'], selected_rows['Area'], 1)\n",
    "line = slope * selected_rows['ReuseFactor'] + intercept\n",
    "\n",
    "# Plotting Area vs. Reuse Factor with linear regression line\n",
    "plt.figure(figsize=(12, 6))\n",
    "plt.scatter(selected_rows['ReuseFactor'], selected_rows['Area'], color='tab:blue', label='Actual Data')\n",
    "plt.plot(selected_rows['ReuseFactor'], line, color='tab:red', label='Linear Regression Line')\n",
    "\n",
    "plt.xlabel('Reuse Factor')\n",
    "plt.ylabel('Area')\n",
    "plt.title('Area vs. Reuse Factor with Linear Regression')\n",
    "plt.legend()\n",
    "\n",
    "plt.grid(True)\n",
    "plt.show()"
   ]
  },
  {
   "cell_type": "raw",
   "id": "b8e36aa9-aeb4-4408-8457-65f4355349ac",
   "metadata": {},
   "source": [
    "selected_rows = df[(df['Inputs'] == 4) & (df['Outputs'] == 4)]\n",
    "# Calculate linear regression line for Latency vs. Reuse Factor\n",
    "slope_latency, intercept_latency = np.polyfit(selected_rows['ReuseFactor'], selected_rows['Latency'], 1)\n",
    "line_latency = slope_latency * selected_rows['ReuseFactor'] + intercept_latency\n",
    "\n",
    "# Plotting Latency vs. Reuse Factor with linear regression line\n",
    "plt.figure(figsize=(12, 6))\n",
    "plt.scatter(selected_rows['ReuseFactor'], selected_rows['Latency'], color='tab:blue', label='Actual Data')\n",
    "plt.plot(selected_rows['ReuseFactor'], line_latency, color='tab:red', label='Linear Regression Line')\n",
    "\n",
    "plt.xlabel('Reuse Factor')\n",
    "plt.ylabel('Latency')\n",
    "plt.title('Latency vs. Reuse Factor with Linear Regression')\n",
    "plt.legend()\n",
    "\n",
    "plt.grid(True)\n",
    "plt.show()"
   ]
  }
 ],
 "metadata": {
  "kernelspec": {
   "display_name": "Python 3 (ipykernel)",
   "language": "python",
   "name": "python3"
  },
  "language_info": {
   "codemirror_mode": {
    "name": "ipython",
    "version": 3
   },
   "file_extension": ".py",
   "mimetype": "text/x-python",
   "name": "python",
   "nbconvert_exporter": "python",
   "pygments_lexer": "ipython3",
   "version": "3.10.13"
  },
  "toc": {
   "base_numbering": 1,
   "nav_menu": {},
   "number_sections": false,
   "sideBar": true,
   "skip_h1_title": false,
   "title_cell": "Table of Contents",
   "title_sidebar": "Contents",
   "toc_cell": false,
   "toc_position": {
    "height": "calc(100% - 180px)",
    "left": "10px",
    "top": "150px",
    "width": "258.467px"
   },
   "toc_section_display": true,
   "toc_window_display": true
  }
 },
 "nbformat": 4,
 "nbformat_minor": 5
}
