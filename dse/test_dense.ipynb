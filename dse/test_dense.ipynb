{
 "cells": [
  {
   "cell_type": "markdown",
   "id": "c74916fd-e541-44b7-81dc-7fbb987d5141",
   "metadata": {
    "editable": true,
    "slideshow": {
     "slide_type": ""
    },
    "tags": []
   },
   "source": [
    "# Test `Dense`"
   ]
  },
  {
   "cell_type": "markdown",
   "id": "41aabfa4-3c30-4ae9-868c-2faae576ed54",
   "metadata": {},
   "source": [
    "Please test it with this hsl4ml fork/branch:\n"
   ]
  },
  {
   "cell_type": "markdown",
   "id": "69d694a0-8942-41bf-ad4a-c65f08e9aabe",
   "metadata": {
    "editable": true,
    "slideshow": {
     "slide_type": ""
    },
    "tags": []
   },
   "source": [
    "## Libraries"
   ]
  },
  {
   "cell_type": "code",
   "execution_count": 1,
   "id": "081b218c-bce1-4f1f-9259-cee4e46332bd",
   "metadata": {},
   "outputs": [],
   "source": [
    "# Disable some console warnings on the ASIC-group servers\n",
    "import os\n",
    "os.environ['TF_XLA_FLAGS'] = '--tf_xla_enable_xla_devices'\n",
    "os.environ['TF_CPP_MIN_LOG_LEVEL'] = '3'"
   ]
  },
  {
   "cell_type": "code",
   "execution_count": 2,
   "id": "2ff03fd9-4e69-4d76-9579-dc5b77cc256d",
   "metadata": {},
   "outputs": [],
   "source": [
    "import matplotlib.pyplot as plt\n",
    "import pyaml\n",
    "\n",
    "import tensorflow as tf\n",
    "from tensorflow.keras import datasets, layers, models\n",
    "\n",
    "import keras\n",
    "from keras.layers import Input\n",
    "from keras.models import Sequential\n",
    "\n",
    "from qkeras import *"
   ]
  },
  {
   "cell_type": "markdown",
   "id": "d4d2d9f2-25d2-4e9b-ad3a-773bc8164c10",
   "metadata": {},
   "source": [
    "## Configuration"
   ]
  },
  {
   "cell_type": "code",
   "execution_count": 3,
   "id": "fa5b3422-99a8-460a-9771-72bffd11f512",
   "metadata": {},
   "outputs": [],
   "source": [
    "RUN_HLS = True\n",
    "IO_TYPE = 'io_parallel'\n",
    "STRATEGY = 'Latency'\n",
    "BACKEND = 'Catapult'\n",
    "LAYER = 'Dense'\n",
    "\n",
    "D_IN = 16\n",
    "D_OU = 4\n",
    "\n",
    "B = 1\n",
    "\n",
    "FXD_W = 16 # Fixed-point precision, word bit width\n",
    "FXD_I = 8 # Fixed-point precision, integer-part bit width"
   ]
  },
  {
   "cell_type": "markdown",
   "id": "45bb190e-45f6-4b5c-a487-7537184ac8d4",
   "metadata": {},
   "source": [
    "## QKeras"
   ]
  },
  {
   "cell_type": "markdown",
   "id": "f4ca37c3-f930-40dd-bcc6-add8f01be09f",
   "metadata": {},
   "source": [
    "### Create qkeras model"
   ]
  },
  {
   "cell_type": "code",
   "execution_count": 4,
   "id": "be561610-0fc1-46c3-93cf-db08ff44d962",
   "metadata": {},
   "outputs": [],
   "source": [
    "def CreateQDenseModel(input_shape, units, activation=None):\n",
    "    x_in = Input(shape=input_shape, name='qinput')\n",
    "    \n",
    "    x_out = QDense(\n",
    "        units=units,\n",
    "        activation=activation,\n",
    "        use_bias=True,\n",
    "        #initializer=tf.keras.initializers.Ones(), # makes debugging easy\n",
    "        kernel_quantizer=quantized_bits(FXD_W, FXD_I-1, 1, alpha=1),\n",
    "        bias_quantizer=quantized_bits(FXD_W, FXD_I-1, 1, alpha=1),\n",
    "        name='qdense'\n",
    "    )(x_in)\n",
    "\n",
    "    model = Model(inputs=x_in, outputs=x_out, name='DenseModel')\n",
    "    return model"
   ]
  },
  {
   "cell_type": "code",
   "execution_count": 5,
   "id": "a05a72da-ac08-403e-b1a0-bcebe53a3253",
   "metadata": {},
   "outputs": [
    {
     "name": "stdout",
     "output_type": "stream",
     "text": [
      "WARNING:tensorflow:From /asic/projects/S/SMARTPIXELS/gdg/venvs/smartpixels-regression-siemens-venv/lib64/python3.8/site-packages/tensorflow/python/autograph/pyct/static_analysis/liveness.py:83: Analyzer.lamba_check (from tensorflow.python.autograph.pyct.static_analysis.liveness) is deprecated and will be removed after 2023-09-23.\n",
      "Instructions for updating:\n",
      "Lambda fuctions will be no more assumed to be used in the statement where they are used, or at least in the same block. https://github.com/tensorflow/tensorflow/issues/56089\n",
      "Model: \"DenseModel\"\n",
      "_________________________________________________________________\n",
      " Layer (type)                Output Shape              Param #   \n",
      "=================================================================\n",
      " qinput (InputLayer)         [(None, 16)]              0         \n",
      "                                                                 \n",
      " qdense (QDense)             (None, 4)                 68        \n",
      "                                                                 \n",
      "=================================================================\n",
      "Total params: 68\n",
      "Trainable params: 68\n",
      "Non-trainable params: 0\n",
      "_________________________________________________________________\n"
     ]
    }
   ],
   "source": [
    "qmodel = CreateQDenseModel(input_shape=(D_IN, ), units=D_OU)\n",
    "qmodel.summary()"
   ]
  },
  {
   "cell_type": "markdown",
   "id": "2223b492-ca78-4bb1-9389-644a095e6035",
   "metadata": {},
   "source": [
    "### Show qkeras weights"
   ]
  },
  {
   "cell_type": "code",
   "execution_count": 6,
   "id": "232ee0dd-6caf-4524-9f64-7ba6cd9c4598",
   "metadata": {},
   "outputs": [
    {
     "name": "stdout",
     "output_type": "stream",
     "text": [
      "Weights 0:\n",
      "(16, 4)\n",
      "[-3.41403410e-02  6.21780455e-01 -1.14449054e-01  1.27480542e-02  1.87175319e-01  3.47483724e-01 -1.03418477e-01 -1.42699718e-01 -4.94157523e-01 -1.72958914e-02  2.03840975e-02  3.54409218e-01  6.09446943e-01 -1.03246339e-01  8.62048343e-02 -1.06497310e-01 -8.82179290e-02 -4.74821299e-01  2.56194234e-01  3.21940631e-02 -3.98883581e-01 -2.18217924e-01 -2.53273517e-01  7.23569766e-02 -3.59532654e-01 -5.39231956e-01  1.39313534e-01 -6.17573500e-01 -2.17204228e-01  2.80642092e-01  6.71193600e-01  7.94390142e-02 -4.12631840e-01  2.59737432e-01 -4.11781400e-01  1.85291007e-01 -2.45292440e-01 -3.52804840e-01  1.09207012e-01  4.47916687e-02  6.20198905e-01 -5.64618595e-02  4.89676178e-01  4.78828430e-01 -6.26095161e-02 -4.30624604e-01 -7.19074979e-02  2.07508236e-01  1.83441296e-01 -5.84423363e-01 -4.22939003e-01  5.30515254e-01 -1.76617876e-01  7.83763528e-02 -5.30618883e-04 -7.15531856e-02 -5.13640285e-01 -6.33301854e-01 -1.41499445e-01 -3.01996112e-01 -4.36619371e-01  3.60334106e-03  8.71572047e-02 -4.80068028e-01]\n",
      "-----------\n",
      "Weights 1:\n",
      "(4,)\n",
      "[0. 0. 0. 0.]\n",
      "-----------\n"
     ]
    }
   ],
   "source": [
    "# Print the weights on console\n",
    "#N_WEIGHTS = 10\n",
    "\n",
    "# Backup print options\n",
    "bkp_threshold = np.get_printoptions()['threshold']\n",
    "bkp_linewidth = np.get_printoptions()['linewidth']\n",
    "\n",
    "# Set print options\n",
    "np.set_printoptions(threshold=np.inf, linewidth=np.inf)\n",
    "\n",
    "qweights = qmodel.get_weights()\n",
    "for i, w in enumerate(qweights):\n",
    "    print(f\"Weights {i}:\")\n",
    "    print(w.shape)\n",
    "    #print(w)\n",
    "    print(w.flatten())\n",
    "    print(\"-----------\")\n",
    "\n",
    "# Restore print options\n",
    "np.set_printoptions(threshold=bkp_threshold, linewidth=bkp_linewidth)"
   ]
  },
  {
   "cell_type": "markdown",
   "id": "b041e0a7-8be7-43ee-93de-716ca2391be9",
   "metadata": {},
   "source": [
    "### Show qkeras model"
   ]
  },
  {
   "cell_type": "code",
   "execution_count": 7,
   "id": "f1962999-bbc5-4e2a-9da5-0d6b91c474a1",
   "metadata": {},
   "outputs": [
    {
     "data": {
      "image/png": "[encoded data removed]",
      "text/plain": [
       "<IPython.core.display.Image object>"
      ]
     },
     "execution_count": 7,
     "metadata": {},
     "output_type": "execute_result"
    }
   ],
   "source": [
    "from tensorflow.keras.utils import plot_model\n",
    "plot_model(qmodel, to_file='qkeras_model.png', show_shapes=True, show_layer_names=True, expand_nested=True, show_layer_activations=True)\n",
    "#import hls4ml\n",
    "#hls4ml.utils.plot.plot_model(qmodel, show_layer_names=True, show_precision=False, show_shapes=True, to_file='qkeras_model.png')"
   ]
  },
  {
   "cell_type": "code",
   "execution_count": 8,
   "id": "f6831aa7-206a-4735-961f-6f233f5e8275",
   "metadata": {},
   "outputs": [
    {
     "name": "stdout",
     "output_type": "stream",
     "text": [
      "WARNING:tensorflow:From /asic/projects/S/SMARTPIXELS/gdg/venvs/smartpixels-regression-siemens-venv/lib64/python3.8/site-packages/qkeras/estimate.py:345: Tensor.experimental_ref (from tensorflow.python.framework.ops) is deprecated and will be removed in a future version.\n",
      "Instructions for updating:\n",
      "Use ref() instead.\n"
     ]
    },
    {
     "name": "stderr",
     "output_type": "stream",
     "text": [
      "WARNING:tensorflow:From /asic/projects/S/SMARTPIXELS/gdg/venvs/smartpixels-regression-siemens-venv/lib64/python3.8/site-packages/qkeras/estimate.py:345: Tensor.experimental_ref (from tensorflow.python.framework.ops) is deprecated and will be removed in a future version.\n",
      "Instructions for updating:\n",
      "Use ref() instead.\n"
     ]
    },
    {
     "name": "stdout",
     "output_type": "stream",
     "text": [
      "\n",
      "Number of operations in model:\n",
      "    qdense                        : 64    (smult_16_8)\n",
      "\n",
      "Number of operation types in model:\n",
      "    smult_16_8                    : 64\n",
      "\n",
      "Weight profiling:\n",
      "    qdense_weights                 : 64    (16-bit unit)\n",
      "    qdense_bias                    : 4     (16-bit unit)\n",
      "\n",
      "Weight sparsity:\n",
      "... quantizing model\n",
      "    qdense                         : 0.0735\n",
      "    ----------------------------------------\n",
      "    Total Sparsity                 : 0.0735\n"
     ]
    }
   ],
   "source": [
    "print_qstats(qmodel)"
   ]
  },
  {
   "cell_type": "markdown",
   "id": "0f44f1bf-3549-40e6-a32d-052e79847d96",
   "metadata": {},
   "source": [
    "## hls4ml"
   ]
  },
  {
   "cell_type": "markdown",
   "id": "b60e5bb3-cfbe-45e5-92ca-a312d4b230c6",
   "metadata": {},
   "source": [
    "### Configure hls4ml model"
   ]
  },
  {
   "cell_type": "code",
   "execution_count": 9,
   "id": "8f62ee5a-b7b8-4d57-b49d-a4e099b3ac38",
   "metadata": {
    "editable": true,
    "slideshow": {
     "slide_type": ""
    },
    "tags": []
   },
   "outputs": [
    {
     "name": "stderr",
     "output_type": "stream",
     "text": [
      "/asic/projects/S/SMARTPIXELS/gdg/SmartPixels/hls4ml-siemens-merge/hls4ml/converters/__init__.py:27: UserWarning: WARNING: Pytorch converter is not enabled!\n",
      "  warnings.warn(\"WARNING: Pytorch converter is not enabled!\", stacklevel=1)\n",
      "/asic/projects/S/SMARTPIXELS/gdg/SmartPixels/hls4ml-siemens-merge/hls4ml/converters/__init__.py:36: UserWarning: WARNING: ONNX converter is not enabled!\n",
      "  warnings.warn(\"WARNING: ONNX converter is not enabled!\", stacklevel=1)\n"
     ]
    },
    {
     "name": "stdout",
     "output_type": "stream",
     "text": [
      "WARNING: Failed to import handlers from convolution.py: No module named 'torch'.\n",
      "WARNING: Failed to import handlers from core.py: No module named 'torch'.\n",
      "WARNING: Failed to import handlers from merge.py: No module named 'torch'.\n",
      "WARNING: Failed to import handlers from pooling.py: No module named 'torch'.\n",
      "WARNING: Failed to import handlers from reshape.py: No module named 'torch'.\n",
      "WARNING: Failed to import handlers from convolution.py: cannot import name 'builder' from 'google.protobuf.internal' (/asic/projects/S/SMARTPIXELS/gdg/venvs/smartpixels-regression-siemens-venv/lib64/python3.8/site-packages/google/protobuf/internal/__init__.py).\n",
      "WARNING: Failed to import handlers from core.py: cannot import name 'builder' from 'google.protobuf.internal' (/asic/projects/S/SMARTPIXELS/gdg/venvs/smartpixels-regression-siemens-venv/lib64/python3.8/site-packages/google/protobuf/internal/__init__.py).\n",
      "WARNING: Failed to import handlers from merge.py: cannot import name 'builder' from 'google.protobuf.internal' (/asic/projects/S/SMARTPIXELS/gdg/venvs/smartpixels-regression-siemens-venv/lib64/python3.8/site-packages/google/protobuf/internal/__init__.py).\n",
      "WARNING: Failed to import handlers from pooling.py: cannot import name 'builder' from 'google.protobuf.internal' (/asic/projects/S/SMARTPIXELS/gdg/venvs/smartpixels-regression-siemens-venv/lib64/python3.8/site-packages/google/protobuf/internal/__init__.py).\n",
      "WARNING: Failed to import handlers from reshape.py: cannot import name 'builder' from 'google.protobuf.internal' (/asic/projects/S/SMARTPIXELS/gdg/venvs/smartpixels-regression-siemens-venv/lib64/python3.8/site-packages/google/protobuf/internal/__init__.py).\n",
      "Interpreting Model\n",
      "Topology:\n",
      "Layer name: qinput, layer type: InputLayer, input shapes: [[None, 16]], output shape: [None, 16]\n",
      "Layer name: qdense, layer type: QDense, input shapes: [[None, 16]], output shape: [None, 4]\n",
      "Enable tracing for layer: qinput\n",
      "Enable tracing for layer: qdense\n",
      "Enable tracing for layer: qdense_linear\n",
      "Interpreting Model\n",
      "Topology:\n",
      "Layer name: qinput, layer type: InputLayer, input shapes: [[None, 16]], output shape: [None, 16]\n",
      "Layer name: qdense, layer type: QDense, input shapes: [[None, 16]], output shape: [None, 4]\n",
      "Creating HLS model\n",
      "Writing HLS project\n",
      "Copying NNET files to local firmware directory\n",
      "... copying AC ac_types headers from /asic/projects/S/SMARTPIXELS/gdg/SmartPixels/hls4ml-siemens-merge/hls4ml/writer/../templates/catapult/ac_types/\n",
      "... copying AC ac_math headers from /asic/projects/S/SMARTPIXELS/gdg/SmartPixels/hls4ml-siemens-merge/hls4ml/writer/../templates/catapult/ac_math/\n",
      "... copying AC ac_simutils headers from /asic/projects/S/SMARTPIXELS/gdg/SmartPixels/hls4ml-siemens-merge/hls4ml/writer/../templates/catapult/ac_simutils/\n",
      "WARNING:tensorflow:Compiled the loaded model, but the compiled metrics have yet to be built. `model.compile_metrics` will be empty until you train or evaluate the model.\n"
     ]
    },
    {
     "name": "stderr",
     "output_type": "stream",
     "text": [
      "WARNING:tensorflow:Compiled the loaded model, but the compiled metrics have yet to be built. `model.compile_metrics` will be empty until you train or evaluate the model.\n"
     ]
    },
    {
     "name": "stdout",
     "output_type": "stream",
     "text": [
      "Done\n"
     ]
    }
   ],
   "source": [
    "import hls4ml\n",
    "\n",
    "config = hls4ml.utils.config_from_keras_model(\n",
    "    qmodel, \n",
    "    granularity='name',\n",
    "    default_precision='fixed<{},{}>'.format(FXD_W, FXD_I)\n",
    ")\n",
    "config['LayerName']['qinput']['Precision']['result'] = 'fixed<{},{}>'.format(FXD_W, FXD_I)\n",
    "config['LayerName']['qdense']['ReuseFactor'] = 1\n",
    "config['Model']['Strategy'] = STRATEGY\n",
    "\n",
    "# Enable tracing for all of the layers\n",
    "for layer in config['LayerName'].keys():\n",
    "    print('Enable tracing for layer:', layer)\n",
    "    config['LayerName'][layer]['Trace'] = True\n",
    "\n",
    "hls_model = hls4ml.converters.convert_from_keras_model(\n",
    "    qmodel, \n",
    "    hls_config = config, \n",
    "    output_dir = 'myproject_prj', \n",
    "    #part = 'xcu250-figd2104-2L-e',\n",
    "    backend = BACKEND,\n",
    "    io_type = IO_TYPE\n",
    ")\n",
    "\n",
    "hls_model.compile()"
   ]
  },
  {
   "cell_type": "code",
   "execution_count": 10,
   "id": "6752fc96-46de-48c8-9127-61251fd5bb0c",
   "metadata": {
    "editable": true,
    "scrolled": true,
    "slideshow": {
     "slide_type": ""
    },
    "tags": []
   },
   "outputs": [
    {
     "name": "stdout",
     "output_type": "stream",
     "text": [
      "LayerName:\n",
      "  qdense:\n",
      "    Precision:\n",
      "      bias: fixed<16,8,TRN,WRAP,0>\n",
      "      result: fixed<16,8>\n",
      "      weight: fixed<16,8,TRN,WRAP,0>\n",
      "    ReuseFactor: 1\n",
      "    Trace: yes\n",
      "  qdense_linear:\n",
      "    Precision:\n",
      "      result: fixed<16,8>\n",
      "    Trace: yes\n",
      "  qinput:\n",
      "    Precision:\n",
      "      result: fixed<16,8>\n",
      "    Trace: yes\n",
      "Model:\n",
      "  BramFactor: 1000000000\n",
      "  Precision: fixed<16,8>\n",
      "  ReuseFactor: 1\n",
      "  Strategy: Latency\n",
      "  TraceOutput: no\n",
      "\n"
     ]
    }
   ],
   "source": [
    "print(pyaml.dump(config))"
   ]
  },
  {
   "cell_type": "markdown",
   "id": "d1dfb700-10ec-4ac3-8c4d-0238edf15243",
   "metadata": {},
   "source": [
    "### Run qkeras and hls4ml simulation"
   ]
  },
  {
   "cell_type": "code",
   "execution_count": 11,
   "id": "69c929e0-4690-4558-87d4-b74cdd02c9b1",
   "metadata": {
    "scrolled": true
   },
   "outputs": [
    {
     "name": "stdout",
     "output_type": "stream",
     "text": [
      "Recompiling myproject with tracing\n",
      "Writing HLS project\n",
      "Copying NNET files to local firmware directory\n",
      "... copying AC ac_types headers from /asic/projects/S/SMARTPIXELS/gdg/SmartPixels/hls4ml-siemens-merge/hls4ml/writer/../templates/catapult/ac_types/\n",
      "... copying AC ac_math headers from /asic/projects/S/SMARTPIXELS/gdg/SmartPixels/hls4ml-siemens-merge/hls4ml/writer/../templates/catapult/ac_math/\n",
      "... copying AC ac_simutils headers from /asic/projects/S/SMARTPIXELS/gdg/SmartPixels/hls4ml-siemens-merge/hls4ml/writer/../templates/catapult/ac_simutils/\n",
      "WARNING:tensorflow:Compiled the loaded model, but the compiled metrics have yet to be built. `model.compile_metrics` will be empty until you train or evaluate the model.\n"
     ]
    },
    {
     "name": "stderr",
     "output_type": "stream",
     "text": [
      "WARNING:tensorflow:Compiled the loaded model, but the compiled metrics have yet to be built. `model.compile_metrics` will be empty until you train or evaluate the model.\n"
     ]
    },
    {
     "name": "stdout",
     "output_type": "stream",
     "text": [
      "Done\n",
      "1/1 [==============================] - 0s 141ms/step\n",
      "Done taking outputs for Keras model.\n"
     ]
    }
   ],
   "source": [
    "# Set a seed to have the same input traces on every run\n",
    "np.random.seed(42)\n",
    "\n",
    "toy_data = np.random.rand(B, D_IN)\n",
    "for b in range(B):\n",
    "    for i in range(D_IN):\n",
    "        toy_data[b][i] = b * i + i\n",
    "\n",
    "q_toy_data = quantized_bits(FXD_W, FXD_I-1, alpha=1)(toy_data).numpy()\n",
    "\n",
    "# Run tracing on the test set for the hls4ml model (fixed-point precision) \n",
    "hls4ml_pred, hls4ml_trace = hls_model.trace(q_toy_data)\n",
    "\n",
    "# Run tracing on a portion of the test set for the Keras model (floating-point precision)\n",
    "keras_trace = hls4ml.model.profiling.get_ymodel_keras(qmodel, q_toy_data)"
   ]
  },
  {
   "cell_type": "code",
   "execution_count": 12,
   "id": "f85f5c7d-c4ef-4a72-9d64-71468efe3a0b",
   "metadata": {},
   "outputs": [
    {
     "name": "stdout",
     "output_type": "stream",
     "text": [
      "{'qdense': array([-18.828125 , -25.445312 ,   1.5742188,   0.5703125], dtype=float32)}\n"
     ]
    }
   ],
   "source": [
    "print(keras_trace)"
   ]
  },
  {
   "cell_type": "raw",
   "id": "a1fb9ca8-f246-4cb2-bd1c-05ca645240bd",
   "metadata": {},
   "source": [
    "# Save inputs and expected outputs for further debugging\n",
    "with open('{}_{}_{}_{}_trace_hls4ml_prj/tb_data/tb_input_features.dat'.format(BACKEND.lower(), LAYER.lower(), STRATEGY.lower(), IO_TYPE.lower()), 'w') as f:\n",
    "    f.write(' '.join(map(str, toy_data[0].flatten())))\n",
    "with open('{}_{}_{}_{}_trace_hls4ml_prj/tb_data/tb_output_predictions.dat'.format(BACKEND.lower(), LAYER.lower(), STRATEGY.lower(), IO_TYPE.lower()), 'w') as f:\n",
    "    f.write(' '.join(map(str, keras_trace['qdense'][0].flatten())))"
   ]
  },
  {
   "cell_type": "markdown",
   "id": "85c658a3-8bcf-44df-8c9d-a9a6a762b4d2",
   "metadata": {},
   "source": [
    "### Show qkeras and hls4ml traces"
   ]
  },
  {
   "cell_type": "code",
   "execution_count": 13,
   "id": "f635be40-5546-4ad9-bea9-64e73321918f",
   "metadata": {},
   "outputs": [
    {
     "name": "stdout",
     "output_type": "stream",
     "text": [
      "input [ 0.  1.  2.  3.  4.  5.  6.  7.  8.  9. 10. 11. 12. 13. 14. 15.]\n",
      "-------\n",
      "qdense (1, 4)\n",
      "[qkeras] qdense [-18.828125  -25.445312    1.5742188   0.5703125]\n",
      "[hls4ml] qdense [-18.828125  -25.445312    1.5742188   0.5703125]\n"
     ]
    }
   ],
   "source": [
    "# Print the traces on console\n",
    "N_ELEMENTS=10\n",
    "\n",
    "# Backup print options\n",
    "bkp_threshold = np.get_printoptions()['threshold']\n",
    "bkp_linewidth = np.get_printoptions()['linewidth']\n",
    "\n",
    "# Set print options\n",
    "np.set_printoptions(threshold=np.inf, linewidth=np.inf)\n",
    "\n",
    "print('input', q_toy_data.flatten())\n",
    "for key in hls4ml_trace.keys():\n",
    "    print('-------')\n",
    "    print(key, hls4ml_trace[key].shape)\n",
    "    print('[qkeras]', key, keras_trace[key].flatten())\n",
    "    print('[hls4ml]', key, hls4ml_trace[key].flatten())\n",
    "\n",
    "#print(hls4ml_trace)\n",
    "# Restore print options\n",
    "np.set_printoptions(threshold=bkp_threshold, linewidth=bkp_linewidth)"
   ]
  },
  {
   "cell_type": "markdown",
   "id": "694ef0d7-7af8-42fd-848f-afe57892d279",
   "metadata": {
    "editable": true,
    "slideshow": {
     "slide_type": ""
    },
    "tags": []
   },
   "source": [
    "### Plot correlation qkeras and hls4ml"
   ]
  },
  {
   "cell_type": "code",
   "execution_count": 14,
   "id": "ffc91078-5827-4ae8-a95e-d4208078051a",
   "metadata": {
    "editable": true,
    "slideshow": {
     "slide_type": ""
    },
    "tags": []
   },
   "outputs": [
    {
     "name": "stdout",
     "output_type": "stream",
     "text": [
      "qdense\n"
     ]
    },
    {
     "data": {
      "image/png": "[encoded data removed]",
      "text/plain": [
       "<Figure size 640x480 with 1 Axes>"
      ]
     },
     "metadata": {},
     "output_type": "display_data"
    }
   ],
   "source": [
    "# Evaluate correlation plots\n",
    "for layer in hls4ml_trace.keys():\n",
    "    print(layer)\n",
    "    if '_alpha' in layer:\n",
    "        continue\n",
    "    plt.figure()\n",
    "    klayer = layer\n",
    "    if '_linear' in layer:\n",
    "        klayer = layer.replace('_linear', '')\n",
    "    plt.scatter(hls4ml_trace[layer].flatten(), keras_trace[klayer].flatten(), s=0.2)\n",
    "    min_x = min(np.amin(hls4ml_trace[layer]), np.amin(keras_trace[klayer]))\n",
    "    max_x = max(np.amax(hls4ml_trace[layer]), np.amax(keras_trace[klayer]))\n",
    "    plt.plot([min_x, max_x], [min_x, max_x], c='gray')\n",
    "    plt.xlabel('hls4ml {}'.format(layer))\n",
    "    plt.ylabel('QKeras {}'.format(klayer))"
   ]
  },
  {
   "cell_type": "markdown",
   "id": "007f6c10-90ee-47e6-9c11-c91b22b17246",
   "metadata": {},
   "source": [
    "### Run HLS"
   ]
  },
  {
   "cell_type": "code",
   "execution_count": 15,
   "id": "39b6c267-0b5e-4981-932c-6f9b79c946e9",
   "metadata": {},
   "outputs": [
    {
     "name": "stdout",
     "output_type": "stream",
     "text": [
      "catapult -product ultra -shell -f build_prj.tcl -eval 'set ::argv \"reset=False csim=False synth=True cosim=False validation=False export=False vsynth=False fifo_opt=False bitfile=False ran_frame=5 sw_opt=False power=False da=False vhdl=False verilog=True bup=False\"'\n",
      "//  Catapult Ultra Synthesis 2023.2_1/1065141 (Production Release) Mon Sep 11 19:17:22 PDT 2023\n",
      "//  \n",
      "//          Copyright (c) Siemens EDA, 1996-2023, All Rights Reserved.\n",
      "//                        UNPUBLISHED, LICENSED SOFTWARE.\n",
      "//             CONFIDENTIAL AND PROPRIETARY INFORMATION WHICH IS THE\n",
      "//                   PROPERTY OF SIEMENS EDA OR ITS LICENSORS.\n",
      "//  \n",
      "//  Running on Linux gdg@fasic-beast1.fnal.gov 3.10.0-1160.105.1.el7.x86_64 x86_64 aol\n",
      "//  \n",
      "//  Package information: SIFLIBS v26.2_1.0, HLS_PKGS v26.2_1.0, \n",
      "//                       SIF_TOOLKITS v26.2_1.0, SIF_XILINX v26.2_1.0, \n",
      "//                       SIF_ALTERA v26.2_1.0, CCS_LIBS v26.2_1.0, \n",
      "//                       CDS_PPRO v2023.1_3, CDS_DesignChecker v2023.2_1, \n",
      "//                       CDS_OASYS v21.1_3.1, CDS_PSR v23.1_1.18, \n",
      "//                       DesignPad v2.78_1.0\n",
      "//  \n",
      "# Connected to license server 1717@fasic-admin1.fnal.gov (LIC-13)\n",
      "# Catapult product license successfully checked out, elapsed time 00:01 (LIC-14)\n",
      "dofile ./build_prj.tcl\n",
      "# > array set opt {\n",
      "# >   reset      0\n",
      "# >   csim       0\n",
      "# >   synth      1\n",
      "# >   cosim      0\n",
      "# >   validation 0\n",
      "# >   vhdl       1\n",
      "# >   verilog    1\n",
      "# >   export     0\n",
      "# >   vsynth     0\n",
      "# >   bitfile    0\n",
      "# >   fifo_opt   0\n",
      "# >   ran_frame  2\n",
      "# >   sw_opt     0\n",
      "# >   power      0\n",
      "# >   da         0\n",
      "# >   bup        0\n",
      "# > }\n",
      "# > set sfd [file dirname [info script]]\n",
      "# .\n",
      "# > if { [info exists ::argv] } {\n",
      "# >   foreach arg $::argv {\n",
      "# >     foreach {optname optval} [split $arg '='] {}\n",
      "# >     if { [info exists opt($optname)] } {\n",
      "# >       if {[string is integer -strict $optval]} {\n",
      "# >         set opt($optname) $optval\n",
      "# >       } else {\n",
      "# >         set opt($optname) [string is true -strict $optval]\n",
      "# >       }\n",
      "# >     }\n",
      "# >   }\n",
      "# > }\n",
      "# > puts \"***** INVOKE OPTIONS *****\"\n",
      "# ***** INVOKE OPTIONS *****\n",
      "# > foreach x [lsort [array names opt]] {\n",
      "# >   puts \"[format {   %-20s %s} $x $opt($x)]\"\n",
      "# > }\n",
      "#    bitfile              0\n",
      "#    bup                  0\n",
      "#    cosim                0\n",
      "#    csim                 0\n",
      "#    da                   0\n",
      "#    export               0\n",
      "#    fifo_opt             0\n",
      "#    power                0\n",
      "#    ran_frame            5\n",
      "#    reset                0\n",
      "#    sw_opt               0\n",
      "#    synth                1\n",
      "#    validation           0\n",
      "#    verilog              1\n",
      "#    vhdl                 0\n",
      "#    vsynth               0\n",
      "# > puts \"\"\n",
      "# \n",
      "# > proc report_time { op_name time_start time_end } {\n",
      "# >   set time_taken [expr $time_end - $time_start]\n",
      "# >   set time_s [expr ($time_taken / 1000) % 60]\n",
      "# >   set time_m [expr ($time_taken / (1000*60)) % 60]\n",
      "# >   set time_h [expr ($time_taken / (1000*60*60)) % 24]\n",
      "# >   puts \"***** ${op_name} COMPLETED IN ${time_h}h${time_m}m${time_s}s *****\"\n",
      "# > }\n",
      "# > proc setup_xilinx_part { part } {\n",
      "# >   set part_sav $part\n",
      "# >   set libname [lindex [library get /CONFIG/PARAMETERS/Vivado/PARAMETERS/Xilinx/PARAMETERS/*/PARAMETERS/*/PARAMETERS/$part/LIBRARIES/*/NAME -match glob -ret v] 0]\n",
      "# >   puts \"Library Name: $libname\"\n",
      "# >   if { [llength $libname] == 1 } {\n",
      "# >     set libpath [library get /CONFIG/PARAMETERS/Vivado/PARAMETERS/Xilinx/PARAMETERS/*/PARAMETERS/*/PARAMETERS/$part/LIBRARIES/*/NAME -match glob -ret p]\n",
      "# >     puts \"Library Path: $libpath\"\n",
      "# >     if { [regexp {/CONFIG/PARAMETERS/(\\S+)/PARAMETERS/(\\S+)/PARAMETERS/(\\S+)/PARAMETERS/(\\S+)/PARAMETERS/(\\S+)/.*} $libpath dummy rtltool vendor family speed part] } {\n",
      "# >       solution library add $libname -- -rtlsyntool $rtltool -vendor $vendor -family $family -speed $speed -part $part_sav\n",
      "# >     } else {\n",
      "# >       solution library add $libname -- -rtlsyntool Vivado\n",
      "# >     }\n",
      "# >   } else {\n",
      "# >     logfile message \"Could not find specific Xilinx base library for part '$part'. Using KINTEX-u\\n\" warning\n",
      "# >     solution library add mgc_Xilinx-KINTEX-u-2_beh -- -rtlsyntool Vivado -manufacturer Xilinx -family KINTEX-u -speed -2 -part xcku115-flvb2104-2-i\n",
      "# >   }\n",
      "# >   solution library add Xilinx_RAMS\n",
      "# >   solution library add Xilinx_ROMS\n",
      "# >   solution library add Xilinx_FIFO\n",
      "# > }\n",
      "# > proc setup_asic_libs { args } {\n",
      "# >   set do_saed 0\n",
      "# >   foreach lib $args {\n",
      "# >     solution library add $lib -- -rtlsyntool DesignCompiler\n",
      "# >     if { [lsearch -exact {saed32hvt_tt0p78v125c_beh saed32lvt_tt0p78v125c_beh saed32rvt_tt0p78v125c_beh} $lib] != -1 } {\n",
      "# >       set do_saed 1\n",
      "# >     }\n",
      "# >   }\n",
      "# >   solution library add ccs_sample_mem\n",
      "# >   solution library add ccs_sample_rom\n",
      "# >   solution library add hls4ml_lib\n",
      "# >   go libraries\n",
      "# > \n",
      "# >   if { $do_saed } {\n",
      "# >     source [application get /SYSTEM/ENV_MGC_HOME]/pkgs/siflibs/saed/setup_saedlib.tcl\n",
      "# >   }\n",
      "# > }\n",
      "# > options set Input/CppStandard {c++17}\n",
      "# c++17\n",
      "# > options set Input/CompilerFlags -DRANDOM_FRAMES=$opt(ran_frame)\n",
      "# -DRANDOM_FRAMES=5\n",
      "# > options set Input/SearchPath {$MGC_HOME/shared/include/nnet_utils} -append\n",
      "# {$MGC_HOME/shared/include/nnet_utils}\n",
      "# > options set ComponentLibs/SearchPath {$MGC_HOME/shared/pkgs/ccs_hls4ml} -append\n",
      "# {$MGC_HOME/pkgs/siflibs} {$MGC_HOME/shared/include/calypto_mem} {$MGC_HOME/pkgs/siflibs/nangate} {$MGC_HOME/pkgs/siflibs/saed} {$MGC_HOME/pkgs/siflibs/dware} {$MGC_HOME/pkgs/ccs_altera} {$MGC_HOME/pkgs/ccs_xilinx} {$MGC_HOME/pkgs/ccs_achronix} {$MGC_HOME/pkgs/siflibs/origami} {$MGC_HOME/pkgs/siflibs/microsemi} {$MGC_HOME/pkgs/ccs_lattice} {$MGC_HOME/pkgs/ccs_nx} {$MGC_HOME/pkgs/ccs_libs/interfaces/amba} {$MGC_HOME/pkgs/siflibs/ccs_fpga} {$MGC_HOME/shared/pkgs/ccs_hls4ml}\n",
      "# > options set Input/SearchPath {firmware/ac_math/include} -append\n",
      "# {$MGC_HOME/shared/include/nnet_utils} firmware/ac_math/include\n",
      "# > if {$opt(reset)} {\n",
      "# >   project load myproject_prj.ccs\n",
      "# >   go new\n",
      "# > } else {\n",
      "# >   project new -name myproject_prj\n",
      "# > }\n",
      "# > options set Message/ErrorOverride HIER-10 -remove\n",
      "# ALOC-7 ASM-11 ASM-48 ASM-63 ASM-69 ASSERT-1 CIN-8 CIN-17 CIN-46 CIN-48 CIN-49 CIN-50 CIN-54 CIN-84 CIN-87 CIN-109 CIN-110 CIN-111 CIN-112 CIN-188 CIN-214 CIN-243 CIN-244 CLUSTER-3 CNS-9 CRAAS-21 DIR-24 DIR-32 HIER-2 HIER-20 HIER-45 INCR-13 INCR-14 INCR-15 LIB-194 LIB-204 LIB-211 LIB-224 LOOP-21 MEM-60 MEM-65 MEM-78 MEM-82 MEM-83 MEM-88 MGEN-16 NL-21 NL-26 NL-30 NL-35 OPT-25 READ-8 READ-9 SCHD-37 SCHD-54 SCHD-55 SIF-6 SIF-17 SIF-20\n",
      "# > solution options set Message/ErrorOverride HIER-10 -remove\n",
      "# ALOC-7 ASM-11 ASM-48 ASM-63 ASM-69 ASSERT-1 CIN-8 CIN-17 CIN-46 CIN-48 CIN-49 CIN-50 CIN-54 CIN-84 CIN-87 CIN-109 CIN-110 CIN-111 CIN-112 CIN-188 CIN-214 CIN-243 CIN-244 CLUSTER-3 CNS-9 CRAAS-21 DIR-24 DIR-32 HIER-2 HIER-20 HIER-45 INCR-13 INCR-14 INCR-15 LIB-194 LIB-204 LIB-211 LIB-224 LOOP-21 MEM-60 MEM-65 MEM-78 MEM-82 MEM-83 MEM-88 MGEN-16 NL-21 NL-26 NL-30 NL-35 OPT-25 READ-8 READ-9 SCHD-37 SCHD-54 SCHD-55 SIF-6 SIF-17 SIF-20\n",
      "# > if {$opt(vhdl)}    {\n",
      "# >   options set Output/OutputVHDL true\n",
      "# > } else {\n",
      "# >   options set Output/OutputVHDL false\n",
      "# > }\n",
      "# false\n",
      "# > if {$opt(verilog)} {\n",
      "# >   options set Output/OutputVerilog true\n",
      "# > } else {\n",
      "# >   options set Output/OutputVerilog false\n",
      "# > }\n",
      "# true\n",
      "# > if { [info exists ::env(XILINX_PCL_CACHE)] } {\n",
      "# > options set /Flows/Vivado/PCL_CACHE $::env(XILINX_PCL_CACHE)\n",
      "# > solution options set /Flows/Vivado/PCL_CACHE $::env(XILINX_PCL_CACHE)\n",
      "# > }\n",
      "# > catch {flow package require /HLS4ML}\n",
      "# 1\n",
      "# > flow package require /SCVerify\n",
      "# 10.4\n",
      "# > flow package option set /SCVerify/INVOKE_ARGS \"$sfd/firmware/weights\"\n",
      "# > set design_top myproject\n",
      "# myproject\n",
      "# > solution file add $sfd/firmware/myproject.cpp\n",
      "# /INPUTFILES/1\n",
      "# > solution file add $sfd/myproject_test.cpp -exclude true\n",
      "# /INPUTFILES/2\n",
      "# > set IOType io_stream\n",
      "# io_stream\n",
      "# > if { ![file exists $sfd/firmware/parameters.h] } {\n",
      "# >   logfile message \"Could not locate firmware/parameters.h. Unable to determine network configuration.\\n\" warning\n",
      "# > } else {\n",
      "# >   set pf [open \"$sfd/firmware/parameters.h\" \"r\"]\n",
      "# >   while {![eof $pf]} {\n",
      "# >     gets $pf line\n",
      "# >     if { [string match {*io_type = nnet::io_stream*} $line] } {\n",
      "# >       set IOType io_stream\n",
      "# >       break\n",
      "# >     }\n",
      "# >   }\n",
      "# >   close $pf\n",
      "# > }\n",
      "# > if { $IOType == \"io_stream\" } {\n",
      "# > solution options set Architectural/DefaultRegisterThreshold 2050\n",
      "# > }\n",
      "# 2050\n",
      "# > directive set -RESET_CLEARS_ALL_REGS no\n",
      "# /RESET_CLEARS_ALL_REGS no\n",
      "# > directive set -MEM_MAP_THRESHOLD [expr 2048 * 16 + 1]\n",
      "# /MEM_MAP_THRESHOLD 32769\n",
      "# > set hls_clock_period 5\n",
      "# 5\n",
      "# > go analyze\n",
      "# Info: Starting transformation 'analyze' on solution 'solution.v1' (SOL-8)\n",
      "# Creating project directory '/asic/projects/S/SMARTPIXELS/gdg/SmartPixels/trebuchet/myproject_prj/myproject_prj/'. (PRJ-1)\n",
      "# Moving session transcript to file \"/asic/projects/S/SMARTPIXELS/gdg/SmartPixels/trebuchet/myproject_prj/catapult.log\"\n",
      "# Front End called with arguments: -I/asic/cad/mentor/catapult/2023.2_1/Mgc_home/shared/include/nnet_utils -Ifirmware/ac_math/include -- /asic/projects/S/SMARTPIXELS/gdg/SmartPixels/trebuchet/myproject_prj/firmware/myproject.cpp (CIN-69)\n",
      "# Edison Design Group C++/C Front End - Version 6.3 (CIN-1)\n",
      "# Warning: $PROJECT_HOME/firmware/nnet_utils/nnet_dense_latency.h(25): Cannot bind pragma 'HLS PIPELINE II=CONFIG_T::reuse_factor' to any valid construct. Please check if a valid construct follows the pragma. (CIN-319)\n",
      "# $PROJECT_HOME/firmware/myproject.cpp(8): Pragma 'hls_design<top>' detected on routine 'myproject' (CIN-6)\n",
      "# Source file analysis completed (CIN-68)\n",
      "# Info: Completed transformation 'analyze' on solution 'solution.v1': elapsed time 4.33 seconds, memory usage 1210052kB, peak memory usage 1210052kB (SOL-9)\n",
      "# > if { ! $opt(bup) } {\n",
      "# > \n",
      "# > go compile\n",
      "# > \n",
      "# > if {$opt(csim)} {\n",
      "# >   puts \"***** C SIMULATION *****\"\n",
      "# >   set time_start [clock clicks -milliseconds]\n",
      "# >   flow run /SCVerify/launch_make ./scverify/Verify_orig_cxx_osci.mk {} SIMTOOL=osci sim\n",
      "# >   set time_end [clock clicks -milliseconds]\n",
      "# >   report_time \"C SIMULATION\" $time_start $time_end\n",
      "# > }\n",
      "# > \n",
      "# > puts \"***** SETTING TECHNOLOGY LIBRARIES *****\"\n",
      "# > setup_xilinx_part {xcku115-flvb2104-2-i}\n",
      "# > \n",
      "# > directive set -CLOCKS [list clk [list -CLOCK_PERIOD $hls_clock_period -CLOCK_EDGE rising -CLOCK_OFFSET 0.000000 -CLOCK_UNCERTAINTY 0.0 -RESET_KIND sync -RESET_SYNC_NAME rst -RESET_SYNC_ACTIVE high -RESET_ASYNC_NAME arst_n -RESET_ASYNC_ACTIVE low -ENABLE_NAME {} -ENABLE_ACTIVE high]]\n",
      "# > \n",
      "# > if {$opt(synth)} {\n",
      "# >   puts \"***** C/RTL SYNTHESIS *****\"\n",
      "# >   set time_start [clock clicks -milliseconds]\n",
      "# > \n",
      "# >   go assembly\n",
      "# > \n",
      "# >   go architect\n",
      "# > \n",
      "# >   go allocate\n",
      "# > \n",
      "# >   go schedule\n",
      "# > \n",
      "# >   go extract\n",
      "# >   set time_end [clock clicks -milliseconds]\n",
      "# >   report_time \"C/RTL SYNTHESIS\" $time_start $time_end\n",
      "# > }\n",
      "# > \n",
      "# > } else {\n",
      "# >   go analyze\n",
      "# > \n",
      "# >   directive set -CLOCKS [list clk [list -CLOCK_PERIOD $hls_clock_period -CLOCK_EDGE rising -CLOCK_OFFSET 0.000000 -CLOCK_UNCERTAINTY 0.0 -RESET_KIND sync -RESET_SYNC_NAME rst -RESET_SYNC_ACTIVE high -RESET_ASYNC_NAME arst_n -RESET_ASYNC_ACTIVE low -ENABLE_NAME {} -ENABLE_ACTIVE high]]\n",
      "# > \n",
      "# >   set blocks [solution get /HIERCONFIG/USER_HBS/*/RESOLVED_NAME -match glob -rec 1 -ret v -state analyze]\n",
      "# >   set bu_mappings {}\n",
      "# >   set top [lindex $blocks 0]\n",
      "# >   foreach block [lreverse [lrange $blocks 1 end]] {\n",
      "# >     if { [string match {nnet::*} $block] == 0 } { continue }\n",
      "# >     go analyze\n",
      "# >     solution design set $block -top\n",
      "# >     solution design set ac::fx_div<8> -inline\n",
      "# >     go compile\n",
      "# >     solution library remove *\n",
      "# >     puts \"***** SETTING TECHNOLOGY LIBRARIES *****\"\n",
      "# > setup_xilinx_part {xcku115-flvb2104-2-i}\n",
      "# >     go extract\n",
      "# >     set block_soln \"[solution get /TOP/name -checkpath 0].[solution get /VERSION -checkpath 0]\"\n",
      "# >     lappend bu_mappings [solution get /CAT_DIR] /$top/$block \"\\[Block\\] $block_soln\"\n",
      "# >   }\n",
      "# > \n",
      "# >   go analyze\n",
      "# >   solution design set $top -top\n",
      "# >   go compile\n",
      "# > \n",
      "# >   if {$opt(csim)} {\n",
      "# >     puts \"***** C SIMULATION *****\"\n",
      "# >     set time_start [clock clicks -milliseconds]\n",
      "# >     flow run /SCVerify/launch_make ./scverify/Verify_orig_cxx_osci.mk {} SIMTOOL=osci sim\n",
      "# >     set time_end [clock clicks -milliseconds]\n",
      "# >     report_time \"C SIMULATION\" $time_start $time_end\n",
      "# >   }\n",
      "# >   foreach {d i l} $bu_mappings {\n",
      "# >     logfile message \"solution options set ComponentLibs/SearchPath $d -append\\n\" info\n",
      "# >     solution options set ComponentLibs/SearchPath $d -append\n",
      "# >   }\n",
      "# > \n",
      "# >   puts \"***** SETTING TECHNOLOGY LIBRARIES *****\"\n",
      "# >   solution library remove *\n",
      "# > setup_xilinx_part {xcku115-flvb2104-2-i}\n",
      "# >   go compile\n",
      "# >   foreach {d i l} $bu_mappings {\n",
      "# >     logfile message \"solution library add [list $l]\\n\" info\n",
      "# >     eval solution library add [list $l]\n",
      "# >   }\n",
      "# >   go libraries\n",
      "# > \n",
      "# >   foreach {d i l} $bu_mappings {\n",
      "# >     set cnt [directive get $i/* -match glob -checkpath 0 -ret p]\n",
      "# >     if { $cnt != {} } {\n",
      "# >       logfile message \"directive set $i -MAP_TO_MODULE [list $l]\\n\" info\n",
      "# >       eval directive set $i -MAP_TO_MODULE [list $l]\n",
      "# >     }\n",
      "# >   }\n",
      "# >   go assembly\n",
      "# >   set design [solution get -name]\n",
      "# >   foreach ch_fifo [directive get -match glob -checkpath 0 -ret p $design/*_out:cns/FIFO_DEPTH] {\n",
      "# >     directive set -match glob \"$ch_fifo\" 1\n",
      "# >   }\n",
      "# >   foreach ch_fifo [directive get -match glob -checkpath 0 -ret p $design/*_cpy*:cns/FIFO_DEPTH] {\n",
      "# >     logfile message \"Bypass FIFO '$ch_fifo' depth set to 1 - larger value may be required to prevent deadlock\\n\" warning\n",
      "# >     directive set -match glob \"$ch_fifo\" 1\n",
      "# >   }\n",
      "# >   go architect\n",
      "# >   go allocate\n",
      "# >   go schedule\n",
      "# >   go dpfsm\n",
      "# >   go extract\n",
      "# > }\n",
      "# Info: Starting transformation 'compile' on solution 'myproject.v1' (SOL-8)\n",
      "# Generating synthesis internal form... (CIN-3)\n",
      "# $PROJECT_HOME/firmware/myproject.cpp(10): Found top design routine 'myproject' specified by directive (CIN-52)\n",
      "# $PROJECT_HOME/firmware/myproject.cpp(10): Synthesizing routine 'myproject' (CIN-13)\n",
      "# Warning: $PROJECT_HOME/firmware/weights/w2.h(13): Instantiating global variable 'w2' which may be accessed outside this scope (CIN-18)\n",
      "# Warning: $PROJECT_HOME/firmware/weights/b2.h(13): Instantiating global variable 'b2' which may be accessed outside this scope (CIN-18)\n",
      "# $PROJECT_HOME/firmware/myproject.cpp(10): Inlining routine 'myproject' (CIN-14)\n",
      "# $PROJECT_HOME/firmware/nnet_utils/nnet_dense.h(36): Inlining routine 'nnet::dense<input_t, result_t, config2>' (CIN-14)\n",
      "# $PROJECT_HOME/firmware/nnet_utils/nnet_dense_latency.h(14): Inlining routine 'nnet::dense_latency<input_t, result_t, config2>' (CIN-14)\n",
      "# $PROJECT_HOME/firmware/nnet_utils/nnet_mult.h(78): Inlining method 'nnet::product::mult<input_t, config2::weight_t>::limit' (CIN-14)\n",
      "# $PROJECT_HOME/firmware/nnet_utils/nnet_dense_latency.h(52): Pragma 'hls_unroll<yes>' detected on '/myproject/core/Product1' (CIN-203)\n",
      "# $PROJECT_HOME/firmware/nnet_utils/nnet_dense_latency.h(56): Pragma 'hls_unroll<yes>' detected on '/myproject/core/Product2' (CIN-203)\n",
      "# $PROJECT_HOME/firmware/nnet_utils/nnet_mult.h(73): Inlining method 'nnet::product::mult<input_t, config2::weight_t>::product' (CIN-14)\n",
      "# $PROJECT_HOME/firmware/nnet_utils/nnet_dense_latency.h(66): Pragma 'hls_unroll<yes>' detected on '/myproject/core/ResetAccum' (CIN-203)\n",
      "# $PROJECT_HOME/firmware/nnet_utils/nnet_dense_latency.h(73): Pragma 'hls_unroll<yes>' detected on '/myproject/core/Accum1' (CIN-203)\n",
      "# $PROJECT_HOME/firmware/nnet_utils/nnet_dense_latency.h(76): Pragma 'hls_unroll<yes>' detected on '/myproject/core/Accum2' (CIN-203)\n",
      "# $PROJECT_HOME/firmware/nnet_utils/nnet_dense_latency.h(85): Pragma 'hls_unroll<yes>' detected on '/myproject/core/Result' (CIN-203)\n",
      "# $PROJECT_HOME/firmware/nnet_utils/nnet_mult.h(121): Inlining routine 'nnet::cast<input_t, result_t, config2>' (CIN-14)\n",
      "# $PROJECT_HOME/firmware/myproject.cpp(10): Optimizing block '/myproject' ... (CIN-4)\n",
      "# $PROJECT_HOME/firmware/myproject.cpp(11): INOUT port 'qinput' is only used as an input. (OPT-10)\n",
      "# $PROJECT_HOME/firmware/myproject.cpp(12): INOUT port 'layer2_out' is only used as an output. (OPT-11)\n",
      "# $PROJECT_HOME/firmware/nnet_utils/nnet_dense_latency.h(58): Loop '/myproject/core/Product2' iterated at most 4 times. (LOOP-2)\n",
      "# $PROJECT_HOME/firmware/nnet_utils/nnet_dense_latency.h(54): Loop '/myproject/core/Product1' iterated at most 16 times. (LOOP-2)\n",
      "# $PROJECT_HOME/firmware/nnet_utils/nnet_dense_latency.h(68): Loop '/myproject/core/ResetAccum' iterated at most 4 times. (LOOP-2)\n",
      "# $PROJECT_HOME/firmware/nnet_utils/nnet_dense_latency.h(78): Loop '/myproject/core/Accum2' iterated at most 4 times. (LOOP-2)\n",
      "# $PROJECT_HOME/firmware/nnet_utils/nnet_dense_latency.h(75): Loop '/myproject/core/Accum1' iterated at most 16 times. (LOOP-2)\n",
      "# $PROJECT_HOME/firmware/nnet_utils/nnet_dense_latency.h(87): Loop '/myproject/core/Result' iterated at most 4 times. (LOOP-2)\n",
      "# $PROJECT_HOME/firmware/nnet_utils/nnet_dense_latency.h(69): Detected constant initialization of array 'nnet::dense_latency<input_t,result_t,config2>:do:acc', optimizing loop 'ResetAccum' (LOOP-12)\n",
      "# Warning: $PROJECT_HOME/firmware/weights/w2.h(13): Reducing the number of bits used to represent array elements of 'w2.rom#1', from '16' bits to '9' bits. (MEM-87)\n",
      "# Info: $PROJECT_HOME/firmware/nnet_utils/nnet_dense_latency.h(54): Splitting object 'Product1:ii' into 2 segments (OPT-19)\n",
      "# Design 'myproject' was read (SOL-1)\n",
      "# Makefile for Original Design + Testbench written to file './scverify/Verify_orig_cxx_osci.mk'\n",
      "# Info: CDesignChecker Shell script written to '/asic/projects/S/SMARTPIXELS/gdg/SmartPixels/trebuchet/myproject_prj/myproject_prj/myproject.v1/CDesignChecker/design_checker.sh'\n",
      "# Info: Completed transformation 'compile' on solution 'myproject.v1': elapsed time 3.19 seconds, memory usage 1210052kB, peak memory usage 1210052kB (SOL-9)\n",
      "# Info: Design complexity at end of 'compile': Total ops = 47, Real ops = 7, Vars = 10 (SOL-21)\n",
      "# ***** SETTING TECHNOLOGY LIBRARIES *****\n",
      "# Library Name: mgc_Xilinx-KINTEX-u-2_beh\n",
      "# Library Path: /CONFIG/PARAMETERS/Vivado/PARAMETERS/Xilinx/PARAMETERS/KINTEX-u/PARAMETERS/-2/PARAMETERS/xcku115-flvb2104-2-i/LIBRARIES/99/NAME\n",
      "# ***** C/RTL SYNTHESIS *****\n",
      "# Info: Starting transformation 'libraries' on solution 'myproject.v1' (SOL-8)\n",
      "# Info: Please set ComponentLibs/TechLibSearchPath to enable flows that use downstream synthesis tools (LIB-220)\n",
      "# Reading component library '$MGC_HOME/pkgs/siflibs/mgc_busdefs.lib' [mgc_busdefs]... (LIB-49)\n",
      "# Reading component library '$MGC_HOME/pkgs/siflibs/stdops.lib' [STDOPS]... (LIB-49)\n",
      "# Reading component library '$MGC_HOME/pkgs/siflibs/fpops.lib' [FPOPS]... (LIB-49)\n",
      "# Reading component library '$MGC_HOME/pkgs/siflibs/ccs_ioport.lib' [ccs_ioport]... (LIB-49)\n",
      "# Reading component library '$MGC_HOME/pkgs/siflibs/mgc_ioport.lib' [mgc_ioport]... (LIB-49)\n",
      "# Reading component library '$MGC_HOME/pkgs/cds_assert/assert_ops.lib' [ASSERT_OPS]... (LIB-49)\n",
      "# Reading component library '$MGC_HOME/pkgs/cds_assert/assert_mods.lib' [assert_mods]... (LIB-49)\n",
      "# Reading component library '$MGC_HOME/pkgs/siflibs/ccs_connections.lib' [ccs_connections]... (LIB-49)\n",
      "# Reading component library '$MGC_HOME/pkgs/ccs_xilinx/mgc_Xilinx-KINTEX-u-2_beh.lib' [mgc_Xilinx-KINTEX-u-2_beh]... (LIB-49)\n",
      "# Warning: Component library 'mgc_Xilinx-KINTEX-u-2_beh' created with a newer version of Catapult Library Builder, 2024.1/1064475 > 2023.2_1/1065141 (LIB-83)\n",
      "# Reading component library '$MGC_HOME/pkgs/ccs_xilinx/Xilinx_RAMS.lib' [Xilinx_RAMS]... (LIB-49)\n",
      "# Warning: Component library 'Xilinx_RAMS' created with a newer version of Catapult Library Builder, 2024.1/1064475 > 2023.2_1/1065141 (LIB-83)\n",
      "# Reading component library '$MGC_HOME/pkgs/ccs_xilinx/Xilinx_ROMS.lib' [Xilinx_ROMS]... (LIB-49)\n",
      "# Reading component library '$MGC_HOME/pkgs/ccs_xilinx/Xilinx_FIFO.lib' [Xilinx_FIFO]... (LIB-49)\n",
      "# Info: Completed transformation 'libraries' on solution 'myproject.v1': elapsed time 0.90 seconds, memory usage 1210052kB, peak memory usage 1210052kB (SOL-9)\n",
      "# Info: Design complexity at end of 'libraries': Total ops = 47, Real ops = 7, Vars = 10 (SOL-21)\n",
      "# Info: Starting transformation 'assembly' on solution 'myproject.v1' (SOL-8)\n",
      "# Info: Completed transformation 'assembly' on solution 'myproject.v1': elapsed time 0.12 seconds, memory usage 1210052kB, peak memory usage 1210052kB (SOL-9)\n",
      "# Info: Design complexity at end of 'assembly': Total ops = 48, Real ops = 8, Vars = 12 (SOL-21)\n",
      "# Info: Starting transformation 'loops' on solution 'myproject.v1' (SOL-8)\n",
      "# $PROJECT_HOME/firmware/nnet_utils/nnet_dense_latency.h(58): Loop '/myproject/core/Product2' is being fully unrolled (4 times). (LOOP-7)\n",
      "# $PROJECT_HOME/firmware/nnet_utils/nnet_dense_latency.h(78): Loop '/myproject/core/Accum2' is being fully unrolled (4 times). (LOOP-7)\n",
      "# $PROJECT_HOME/firmware/nnet_utils/nnet_dense_latency.h(87): Loop '/myproject/core/Result' is being fully unrolled (4 times). (LOOP-7)\n",
      "# $PROJECT_HOME/firmware/nnet_utils/nnet_dense_latency.h(54): Loop '/myproject/core/Product1' is being fully unrolled (16 times). (LOOP-7)\n",
      "# $PROJECT_HOME/firmware/nnet_utils/nnet_dense_latency.h(75): Loop '/myproject/core/Accum1' is being fully unrolled (16 times). (LOOP-7)\n",
      "# $PROJECT_HOME/firmware/myproject.cpp(10): Loop '/myproject/core/main' is left rolled. (LOOP-4)\n",
      "# Info: Completed transformation 'loops' on solution 'myproject.v1': elapsed time 0.67 seconds, memory usage 1210052kB, peak memory usage 1210052kB (SOL-9)\n",
      "# Info: Design complexity at end of 'loops': Total ops = 211, Real ops = 85, Vars = 24 (SOL-21)\n",
      "# Info: Starting transformation 'memories' on solution 'myproject.v1' (SOL-8)\n",
      "# $PROJECT_HOME/firmware/myproject.cpp(11): I/O-Port Resource '/myproject/qinput:rsc' (from var: qinput) mapped to 'ccs_ioport.ccs_in' (size: 256). (MEM-2)\n",
      "# $PROJECT_HOME/firmware/myproject.cpp(12): I/O-Port Resource '/myproject/layer2_out:rsc' (from var: layer2_out) mapped to 'ccs_ioport.ccs_out' (size: 64). (MEM-2)\n",
      "# Info: Completed transformation 'memories' on solution 'myproject.v1': elapsed time 0.38 seconds, memory usage 1210052kB, peak memory usage 1210052kB (SOL-9)\n",
      "# Info: Design complexity at end of 'memories': Total ops = 252, Real ops = 85, Vars = 7 (SOL-21)\n",
      "# Info: Starting transformation 'cluster' on solution 'myproject.v1' (SOL-8)\n",
      "# Info: Completed transformation 'cluster' on solution 'myproject.v1': elapsed time 0.06 seconds, memory usage 1210052kB, peak memory usage 1210052kB (SOL-9)\n",
      "# Info: Design complexity at end of 'cluster': Total ops = 252, Real ops = 85, Vars = 7 (SOL-21)\n",
      "# Info: Starting transformation 'architect' on solution 'myproject.v1' (SOL-8)\n",
      "# Warning: $PROJECT_HOME/firmware/nnet_utils/nnet_mult.h(76): Multiplier 'Product1-5:Product2-1:nnet::product::mult<input_t,config2::weight_t>::product:mul' is truncated. This could hinder some DSP mappings. (SIF-25)\n",
      "# Warning: $PROJECT_HOME/firmware/nnet_utils/nnet_mult.h(76): Multiplier 'Product1-14:Product2-1:nnet::product::mult<input_t,config2::weight_t>::product:mul' is truncated. This could hinder some DSP mappings. (SIF-25)\n",
      "# Warning: $PROJECT_HOME/firmware/nnet_utils/nnet_mult.h(76): Multiplier 'Product1-13:Product2-1:nnet::product::mult<input_t,config2::weight_t>::product:mul' is truncated. This could hinder some DSP mappings. (SIF-25)\n",
      "# Warning: $PROJECT_HOME/firmware/nnet_utils/nnet_mult.h(76): Multiplier 'Product1-9:Product2-1:nnet::product::mult<input_t,config2::weight_t>::product:mul' is truncated. This could hinder some DSP mappings. (SIF-25)\n",
      "# Warning: $PROJECT_HOME/firmware/nnet_utils/nnet_mult.h(76): Multiplier 'Product1-6:Product2-1:nnet::product::mult<input_t,config2::weight_t>::product:mul' is truncated. This could hinder some DSP mappings. (SIF-25)\n",
      "# Warning: $PROJECT_HOME/firmware/nnet_utils/nnet_mult.h(76): Multiplier 'Product1-7:Product2-1:nnet::product::mult<input_t,config2::weight_t>::product:mul' is truncated. This could hinder some DSP mappings. (SIF-25)\n",
      "# Warning: $PROJECT_HOME/firmware/nnet_utils/nnet_mult.h(76): Multiplier 'Product1-4:Product2-1:nnet::product::mult<input_t,config2::weight_t>::product:mul' is truncated. This could hinder some DSP mappings. (SIF-25)\n",
      "# Warning: $PROJECT_HOME/firmware/nnet_utils/nnet_mult.h(76): Multiplier 'Product1-11:Product2-1:nnet::product::mult<input_t,config2::weight_t>::product:mul' is truncated. This could hinder some DSP mappings. (SIF-25)\n",
      "# Warning: $PROJECT_HOME/firmware/nnet_utils/nnet_mult.h(76): Multiplier 'Product1-15:Product2-1:nnet::product::mult<input_t,config2::weight_t>::product:mul' is truncated. This could hinder some DSP mappings. (SIF-25)\n",
      "# Warning: $PROJECT_HOME/firmware/nnet_utils/nnet_mult.h(76): Multiplier 'Product1-4:Product2-2:nnet::product::mult<input_t,config2::weight_t>::product:mul' is truncated. This could hinder some DSP mappings. (SIF-25)\n",
      "# Warning: $PROJECT_HOME/firmware/nnet_utils/nnet_mult.h(76): Multiplier 'Product1-12:Product2-2:nnet::product::mult<input_t,config2::weight_t>::product:mul' is truncated. This could hinder some DSP mappings. (SIF-25)\n",
      "# Warning: $PROJECT_HOME/firmware/nnet_utils/nnet_mult.h(76): Multiplier 'Product1-10:Product2-2:nnet::product::mult<input_t,config2::weight_t>::product:mul' is truncated. This could hinder some DSP mappings. (SIF-25)\n",
      "# Warning: $PROJECT_HOME/firmware/nnet_utils/nnet_mult.h(76): Multiplier 'Product1-5:Product2-2:nnet::product::mult<input_t,config2::weight_t>::product:mul' is truncated. This could hinder some DSP mappings. (SIF-25)\n",
      "# Warning: $PROJECT_HOME/firmware/nnet_utils/nnet_mult.h(76): Multiplier 'Product1-2:Product2-2:nnet::product::mult<input_t,config2::weight_t>::product:mul' is truncated. This could hinder some DSP mappings. (SIF-25)\n",
      "# Warning: $PROJECT_HOME/firmware/nnet_utils/nnet_mult.h(76): Multiplier 'Product1-1:Product2-2:nnet::product::mult<input_t,config2::weight_t>::product:mul' is truncated. This could hinder some DSP mappings. (SIF-25)\n",
      "# Warning: $PROJECT_HOME/firmware/nnet_utils/nnet_mult.h(76): Multiplier 'Product1-7:Product2-2:nnet::product::mult<input_t,config2::weight_t>::product:mul' is truncated. This could hinder some DSP mappings. (SIF-25)\n",
      "# Warning: $PROJECT_HOME/firmware/nnet_utils/nnet_mult.h(76): Multiplier 'Product1-13:Product2-2:nnet::product::mult<input_t,config2::weight_t>::product:mul' is truncated. This could hinder some DSP mappings. (SIF-25)\n",
      "# Warning: $PROJECT_HOME/firmware/nnet_utils/nnet_mult.h(76): Multiplier 'Product1-15:Product2-2:nnet::product::mult<input_t,config2::weight_t>::product:mul' is truncated. This could hinder some DSP mappings. (SIF-25)\n",
      "# Warning: $PROJECT_HOME/firmware/nnet_utils/nnet_mult.h(76): Multiplier 'Product1-16:Product2-3:nnet::product::mult<input_t,config2::weight_t>::product:mul' is truncated. This could hinder some DSP mappings. (SIF-25)\n",
      "# Warning: $PROJECT_HOME/firmware/nnet_utils/nnet_mult.h(76): Multiplier 'Product1-4:Product2-3:nnet::product::mult<input_t,config2::weight_t>::product:mul' is truncated. This could hinder some DSP mappings. (SIF-25)\n",
      "# Warning: $PROJECT_HOME/firmware/nnet_utils/nnet_mult.h(76): Multiplier 'Product1-1:Product2-3:nnet::product::mult<input_t,config2::weight_t>::product:mul' is truncated. This could hinder some DSP mappings. (SIF-25)\n",
      "# Warning: $PROJECT_HOME/firmware/nnet_utils/nnet_mult.h(76): Multiplier 'Product1-2:Product2-3:nnet::product::mult<input_t,config2::weight_t>::product:mul' is truncated. This could hinder some DSP mappings. (SIF-25)\n",
      "# Warning: $PROJECT_HOME/firmware/nnet_utils/nnet_mult.h(76): Multiplier 'Product1-13:Product2-3:nnet::product::mult<input_t,config2::weight_t>::product:mul' is truncated. This could hinder some DSP mappings. (SIF-25)\n",
      "# Warning: $PROJECT_HOME/firmware/nnet_utils/nnet_mult.h(76): Multiplier 'Product1-11:Product2-3:nnet::product::mult<input_t,config2::weight_t>::product:mul' is truncated. This could hinder some DSP mappings. (SIF-25)\n",
      "# Warning: $PROJECT_HOME/firmware/nnet_utils/nnet_mult.h(76): Multiplier 'Product1-9:Product2-3:nnet::product::mult<input_t,config2::weight_t>::product:mul' is truncated. This could hinder some DSP mappings. (SIF-25)\n",
      "# Warning: $PROJECT_HOME/firmware/nnet_utils/nnet_mult.h(76): Multiplier 'Product1-8:Product2-3:nnet::product::mult<input_t,config2::weight_t>::product:mul' is truncated. This could hinder some DSP mappings. (SIF-25)\n",
      "# Warning: $PROJECT_HOME/firmware/nnet_utils/nnet_mult.h(76): Multiplier 'Product1-10:Product2-4:nnet::product::mult<input_t,config2::weight_t>::product:mul' is truncated. This could hinder some DSP mappings. (SIF-25)\n",
      "# Warning: $PROJECT_HOME/firmware/nnet_utils/nnet_mult.h(76): Multiplier 'Product1-6:Product2-4:nnet::product::mult<input_t,config2::weight_t>::product:mul' is truncated. This could hinder some DSP mappings. (SIF-25)\n",
      "# Warning: $PROJECT_HOME/firmware/nnet_utils/nnet_mult.h(76): Multiplier 'Product1-4:Product2-4:nnet::product::mult<input_t,config2::weight_t>::product:mul' is truncated. This could hinder some DSP mappings. (SIF-25)\n",
      "# Warning: $PROJECT_HOME/firmware/nnet_utils/nnet_mult.h(76): Multiplier 'Product1-12:Product2-4:nnet::product::mult<input_t,config2::weight_t>::product:mul' is truncated. This could hinder some DSP mappings. (SIF-25)\n",
      "# Warning: $PROJECT_HOME/firmware/nnet_utils/nnet_mult.h(76): Multiplier 'Product1-9:Product2-4:nnet::product::mult<input_t,config2::weight_t>::product:mul' is truncated. This could hinder some DSP mappings. (SIF-25)\n",
      "# Warning: $PROJECT_HOME/firmware/nnet_utils/nnet_mult.h(76): Multiplier 'Product1-2:Product2-4:nnet::product::mult<input_t,config2::weight_t>::product:mul' is truncated. This could hinder some DSP mappings. (SIF-25)\n",
      "# Warning: $PROJECT_HOME/firmware/nnet_utils/nnet_mult.h(76): Multiplier 'Product1-15:Product2-4:nnet::product::mult<input_t,config2::weight_t>::product:mul' is truncated. This could hinder some DSP mappings. (SIF-25)\n",
      "# Warning: $PROJECT_HOME/firmware/nnet_utils/nnet_mult.h(76): Multiplier 'Product1-16:Product2-4:nnet::product::mult<input_t,config2::weight_t>::product:mul' is truncated. This could hinder some DSP mappings. (SIF-25)\n",
      "# Warning: $PROJECT_HOME/firmware/nnet_utils/nnet_mult.h(76): Multiplier 'Product1-11:Product2-4:nnet::product::mult<input_t,config2::weight_t>::product:mul' is truncated. This could hinder some DSP mappings. (SIF-25)\n",
      "# Warning: $PROJECT_HOME/firmware/nnet_utils/nnet_mult.h(76): Multiplier 'Product1-3:Product2-4:nnet::product::mult<input_t,config2::weight_t>::product:mul' is truncated. This could hinder some DSP mappings. (SIF-25)\n",
      "# Warning: $PROJECT_HOME/firmware/nnet_utils/nnet_mult.h(76): Multiplier 'Product1-7:Product2-4:nnet::product::mult<input_t,config2::weight_t>::product:mul' is truncated. This could hinder some DSP mappings. (SIF-25)\n",
      "# Design 'myproject' contains '116' real operations. (SOL-11)\n",
      "# Info: Completed transformation 'architect' on solution 'myproject.v1': elapsed time 1.30 seconds, memory usage 1210052kB, peak memory usage 1210052kB (SOL-9)\n",
      "# Info: Design complexity at end of 'architect': Total ops = 283, Real ops = 116, Vars = 7 (SOL-21)\n",
      "# Info: Starting transformation 'allocate' on solution 'myproject.v1' (SOL-8)\n",
      "# Performing concurrent resource allocation and scheduling on '/myproject/core' (CRAAS-1)\n",
      "# Info: Select qualified components for data operations ... (CRAAS-3)\n",
      "# Info: Apply resource constraints on data operations ... (CRAAS-4)\n",
      "# $PROJECT_HOME/firmware/myproject.cpp(10): Prescheduled LOOP '/myproject/core/main' (3 c-steps) (SCHD-7)\n",
      "# $PROJECT_HOME/firmware/myproject.cpp(10): Prescheduled LOOP '/myproject/core/core:rlp' (0 c-steps) (SCHD-7)\n",
      "# $PROJECT_HOME/firmware/myproject.cpp(10): Prescheduled SEQUENTIAL '/myproject/core' (total length 3 c-steps) (SCHD-8)\n",
      "# Info: $PROJECT_HOME/firmware/myproject.cpp(10): Initial schedule of SEQUENTIAL '/myproject/core': Latency = 2, Area (Datapath, Register, Total) = 21941.00, 0.00, 21941.00 (CRAAS-11)\n",
      "# At least one feasible schedule exists. (CRAAS-9)\n",
      "# Info: $PROJECT_HOME/firmware/myproject.cpp(10): Final schedule of SEQUENTIAL '/myproject/core': Latency = 24, Area (Datapath, Register, Total) = 2230.00, 0.00, 2230.00 (CRAAS-12)\n",
      "# Resource allocation and scheduling done. (CRAAS-2)\n",
      "# Netlist written to file 'schedule.gnt' (NET-4)\n",
      "# Info: Completed transformation 'allocate' on solution 'myproject.v1': elapsed time 0.83 seconds, memory usage 1210052kB, peak memory usage 1210052kB (SOL-9)\n",
      "# Info: Design complexity at end of 'allocate': Total ops = 283, Real ops = 116, Vars = 7 (SOL-21)\n",
      "# Info: Starting transformation 'schedule' on solution 'myproject.v1' (SOL-8)\n",
      "# Performing concurrent resource allocation and scheduling on '/myproject/core' (CRAAS-1)\n",
      "# Global signal 'qinput:rsc.dat' added to design 'myproject' for component 'qinput:rsci' (LIB-3)\n",
      "# Global signal 'layer2_out:rsc.dat' added to design 'myproject' for component 'layer2_out:rsci' (LIB-3)\n",
      "# Global signal 'qinput.triosy.lz' added to design 'myproject' for component 'qinput.triosy:obj' (LIB-3)\n",
      "# Global signal 'layer2_out.triosy.lz' added to design 'myproject' for component 'layer2_out.triosy:obj' (LIB-3)\n",
      "# Report written to file 'cycle.rpt'\n",
      "# Info: Completed transformation 'schedule' on solution 'myproject.v1': elapsed time 5.13 seconds, memory usage 1210052kB, peak memory usage 1210052kB (SOL-9)\n",
      "# Info: Design complexity at end of 'schedule': Total ops = 349, Real ops = 116, Vars = 93 (SOL-21)\n",
      "# Info: Starting transformation 'dpfsm' on solution 'myproject.v1' (SOL-8)\n",
      "# Performing FSM extraction... (FSM-1)\n",
      "# Creating shared register 'nnet::product::mult<input_t,config2::weight_t>::product:acc#2.itm' for variables 'nnet::product::mult<input_t,config2::weight_t>::product:acc#2.itm, nnet::product::mult<input_t,config2::weight_t>::product:acc#8.itm, Accum2:acc#15.itm, Accum2:acc#24.itm' (3 registers deleted). (FSM-3)\n",
      "# Creating shared register 'Accum2:acc#10.itm' for variables 'Accum2:acc#10.itm, Accum2:acc#19.itm, nnet::product::mult<input_t,config2::weight_t>::product:acc#11.itm, nnet::product::mult<input_t,config2::weight_t>::product:acc#3.itm' (3 registers deleted). (FSM-3)\n",
      "# Creating shared register 'Accum2:acc#12.itm' for variables 'Accum2:acc#12.itm, nnet::product::mult<input_t,config2::weight_t>::product:acc#5.itm, Accum2:acc#20.itm' (2 registers deleted). (FSM-3)\n",
      "# Creating shared register 'Accum2:acc#10.itm' for variables 'Accum2:acc#10.itm, Accum2:acc#19.itm, nnet::product::mult<input_t,config2::weight_t>::product:acc#11.itm, nnet::product::mult<input_t,config2::weight_t>::product:acc#3.itm, Accum2:acc#11.psp, nnet::product::mult<input_t,config2::weight_t>::product:slc(Product2:acc#12)(16-4).itm' (2 registers deleted). (FSM-3)\n",
      "# Info: Completed transformation 'dpfsm' on solution 'myproject.v1': elapsed time 0.45 seconds, memory usage 1210052kB, peak memory usage 1210052kB (SOL-9)\n",
      "# Info: Design complexity at end of 'dpfsm': Total ops = 529, Real ops = 212, Vars = 96 (SOL-21)\n",
      "# Info: Starting transformation 'instance' on solution 'myproject.v1' (SOL-8)\n",
      "# Netlist written to file 'schematic.nlv' (NET-4)\n",
      "# Info: Completed transformation 'instance' on solution 'myproject.v1': elapsed time 0.97 seconds, memory usage 1210052kB, peak memory usage 1210052kB (SOL-9)\n",
      "# Info: Design complexity at end of 'instance': Total ops = 621, Real ops = 190, Vars = 588 (SOL-21)\n",
      "# Info: Starting transformation 'extract' on solution 'myproject.v1' (SOL-8)\n",
      "# Report written to file 'rtl.rpt'\n",
      "# Generating scverify_top.cpp\n",
      "# Generating SCVerify ccs_wrapper_myproject.v\n",
      "# Netlist written to file 'rtl.v' (NET-4)\n",
      "# generate concat\n",
      "# order file name is: rtl.v_order.txt\n",
      "# Add dependent file: /asic/cad/mentor/catapult/2023.2_1/Mgc_home/pkgs/siflibs/ccs_in_v1.v\n",
      "# Add dependent file: /asic/cad/mentor/catapult/2023.2_1/Mgc_home/pkgs/siflibs/ccs_out_v1.v\n",
      "# Add dependent file: /asic/cad/mentor/catapult/2023.2_1/Mgc_home/pkgs/siflibs/mgc_io_sync_v2.v\n",
      "# Add dependent file: ./rtl.v\n",
      "# Finished writing concatenated file: /asic/projects/S/SMARTPIXELS/gdg/SmartPixels/trebuchet/myproject_prj/myproject_prj/myproject.v1/concat_rtl.v\n",
      "# order file name is: rtl.v_order_sim.txt\n",
      "# Add dependent file: /asic/cad/mentor/catapult/2023.2_1/Mgc_home/pkgs/siflibs/ccs_in_v1.v\n",
      "# Add dependent file: /asic/cad/mentor/catapult/2023.2_1/Mgc_home/pkgs/siflibs/ccs_out_v1.v\n",
      "# Add dependent file: /asic/cad/mentor/catapult/2023.2_1/Mgc_home/pkgs/siflibs/mgc_io_sync_v2.v\n",
      "# Add dependent file: ./rtl.v\n",
      "# Finished writing concatenated simulation file: /asic/projects/S/SMARTPIXELS/gdg/SmartPixels/trebuchet/myproject_prj/myproject_prj/myproject.v1/concat_sim_rtl.v\n",
      "# Generating SCVerify testbench files\n",
      "# Makefile for RTL Verilog output 'rtl.v' vs Untimed C++ written to file './scverify/Verify_rtl_v_msim.mk'\n",
      "# Info: Xilinx Vivado synthesis script written to 'vivado_v/rtl.v.xv'\n",
      "# Info: Xilinx Vivado synthesis script written to 'vivado_concat_v/concat_rtl.v.xv'\n",
      "# Makefile for Concat RTL Verilog output 'concat_sim_rtl.v' vs Untimed C++ written to file './scverify/Verify_concat_sim_rtl_v_msim.mk'\n",
      "# Info: Completed transformation 'extract' on solution 'myproject.v1': elapsed time 4.98 seconds, memory usage 1210052kB, peak memory usage 1210052kB (SOL-9)\n",
      "# Info: Design complexity at end of 'extract': Total ops = 617, Real ops = 193, Vars = 103 (SOL-21)\n",
      "# ***** C/RTL SYNTHESIS COMPLETED IN 0h0m24s *****\n",
      "# > project save\n",
      "# Saving project file '/asic/projects/S/SMARTPIXELS/gdg/SmartPixels/trebuchet/myproject_prj/myproject_prj.ccs'. (PRJ-5)\n",
      "# > if {$opt(cosim) || $opt(validation)} {\n",
      "# >   if {$opt(verilog)} {\n",
      "# >     flow run /SCVerify/launch_make ./scverify/Verify_rtl_v_msim.mk {} SIMTOOL=msim sim\n",
      "# >   }\n",
      "# >   if {$opt(vhdl)} {\n",
      "# >     flow run /SCVerify/launch_make ./scverify/Verify_rtl_vhdl_msim.mk {} SIMTOOL=msim sim\n",
      "# >   }\n",
      "# > }\n",
      "# > if {$opt(export)} {\n",
      "# >   puts \"***** EXPORT IP *****\"\n",
      "# >   set time_start [clock clicks -milliseconds]\n",
      "# >   set time_end [clock clicks -milliseconds]\n",
      "# >   report_time \"EXPORT IP\" $time_start $time_end\n",
      "# > }\n",
      "# > if {$opt(sw_opt)} {\n",
      "# >   puts \"***** Pre Power Optimization *****\"\n",
      "# >   go switching\n",
      "# >   if {$opt(verilog)} {\n",
      "# >     flow run /PowerAnalysis/report_pre_pwropt_Verilog\n",
      "# >   }\n",
      "# >   if {$opt(vhdl)} {\n",
      "# >     flow run /PowerAnalysis/report_pre_pwropt_VHDL\n",
      "# >   }\n",
      "# > }\n",
      "# > if {$opt(power)} {\n",
      "# >   puts \"***** Power Optimization *****\"\n",
      "# >   go power\n",
      "# > }\n",
      "# > if {$opt(vsynth)} {\n",
      "# >   puts \"***** VIVADO SYNTHESIS *****\"\n",
      "# >   set time_start [clock clicks -milliseconds]\n",
      "# >   flow run /Vivado/synthesize -shell vivado_concat_v/concat_rtl.v.xv\n",
      "# >   set time_end [clock clicks -milliseconds]\n",
      "# >   report_time \"VIVADO SYNTHESIS\" $time_start $time_end\n",
      "# > }\n",
      "# > if {$opt(bitfile)} {\n",
      "# >   puts \"***** Option bitfile not supported yet *****\"\n",
      "# > }\n",
      "# > if {$opt(da)} {\n",
      "# >   puts \"***** Launching DA *****\"\n",
      "# >   flow run /DesignAnalyzer/launch\n",
      "# > }\n",
      "# > if { [catch {flow package present /HLS4ML}] == 0 } {\n",
      "# >   flow run /HLS4ML/collect_reports\n",
      "# > }\n",
      "# > end dofile ./build_prj.tcl\n",
      "Utilization report not found.\n",
      "Timing report not found.\n"
     ]
    }
   ],
   "source": [
    "report = hls_model.build(csim=False, synth=True, cosim=False, validation=False, export=False, vsynth=False, reset=False)"
   ]
  }
 ],
 "metadata": {
  "kernelspec": {
   "display_name": "Python 3 (ipykernel)",
   "language": "python",
   "name": "python3"
  },
  "language_info": {
   "codemirror_mode": {
    "name": "ipython",
    "version": 3
   },
   "file_extension": ".py",
   "mimetype": "text/x-python",
   "name": "python",
   "nbconvert_exporter": "python",
   "pygments_lexer": "ipython3",
   "version": "3.8.13"
  }
 },
 "nbformat": 4,
 "nbformat_minor": 5
}
